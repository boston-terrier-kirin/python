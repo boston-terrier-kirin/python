{
 "cells": [
  {
   "cell_type": "code",
   "execution_count": 1,
   "id": "16fea859-a2fc-4903-be44-85928d0c3853",
   "metadata": {},
   "outputs": [],
   "source": [
    "t = (1, 2, 3)"
   ]
  },
  {
   "cell_type": "code",
   "execution_count": 2,
   "id": "edf8cc8a-f983-4286-ac6f-c10279e65d02",
   "metadata": {},
   "outputs": [
    {
     "data": {
      "text/plain": [
       "tuple"
      ]
     },
     "execution_count": 2,
     "metadata": {},
     "output_type": "execute_result"
    }
   ],
   "source": [
    "type(t)"
   ]
  },
  {
   "cell_type": "markdown",
   "id": "03bcb477-54de-47f7-b028-528788eebc2b",
   "metadata": {},
   "source": [
    "# tupleもsliceができる"
   ]
  },
  {
   "cell_type": "code",
   "execution_count": 3,
   "id": "82cf081c-1261-4df1-8431-5d02d9bf741e",
   "metadata": {},
   "outputs": [
    {
     "data": {
      "text/plain": [
       "1"
      ]
     },
     "execution_count": 3,
     "metadata": {},
     "output_type": "execute_result"
    }
   ],
   "source": [
    "t[0]"
   ]
  },
  {
   "cell_type": "code",
   "execution_count": 5,
   "id": "90288a87-73ea-4b1a-8720-9498bdd7e7f6",
   "metadata": {},
   "outputs": [
    {
     "data": {
      "text/plain": [
       "3"
      ]
     },
     "execution_count": 5,
     "metadata": {},
     "output_type": "execute_result"
    }
   ],
   "source": [
    "t[-1]"
   ]
  },
  {
   "cell_type": "markdown",
   "id": "08f94691-0634-4489-b259-50d89fe1e9e6",
   "metadata": {},
   "source": [
    "# tuple -> list"
   ]
  },
  {
   "cell_type": "code",
   "execution_count": 7,
   "id": "bf7b6622-cf33-456d-9ed8-be0abffd42da",
   "metadata": {},
   "outputs": [
    {
     "data": {
      "text/plain": [
       "[1, 2, 3]"
      ]
     },
     "execution_count": 7,
     "metadata": {},
     "output_type": "execute_result"
    }
   ],
   "source": [
    "l = list(t)\n",
    "l"
   ]
  },
  {
   "cell_type": "code",
   "execution_count": null,
   "id": "4ee1c591-143e-43e2-b12e-ec0e196515cf",
   "metadata": {},
   "outputs": [],
   "source": []
  }
 ],
 "metadata": {
  "kernelspec": {
   "display_name": "Python 3 (ipykernel)",
   "language": "python",
   "name": "python3"
  },
  "language_info": {
   "codemirror_mode": {
    "name": "ipython",
    "version": 3
   },
   "file_extension": ".py",
   "mimetype": "text/x-python",
   "name": "python",
   "nbconvert_exporter": "python",
   "pygments_lexer": "ipython3",
   "version": "3.10.4"
  }
 },
 "nbformat": 4,
 "nbformat_minor": 5
}
