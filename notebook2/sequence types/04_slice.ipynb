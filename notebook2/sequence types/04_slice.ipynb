{
 "cells": [
  {
   "cell_type": "markdown",
   "id": "991fdf59-14a6-42f1-b244-4d8143b9bca4",
   "metadata": {},
   "source": [
    "# sliceすると新しいlistができる、ただしshallow copy"
   ]
  },
  {
   "cell_type": "code",
   "execution_count": 3,
   "id": "d5a19e49-2ce5-48c4-b354-a3456270aa3a",
   "metadata": {},
   "outputs": [],
   "source": [
    "l1 = [1, 2, 3]\n",
    "l2 = l1[:]"
   ]
  },
  {
   "cell_type": "code",
   "execution_count": 4,
   "id": "9b5f3566-26a5-448b-abc1-c1d56848cb41",
   "metadata": {},
   "outputs": [
    {
     "data": {
      "text/plain": [
       "(2547204069632, 2547204069376)"
      ]
     },
     "execution_count": 4,
     "metadata": {},
     "output_type": "execute_result"
    }
   ],
   "source": [
    "id(l1), id(l2)"
   ]
  },
  {
   "cell_type": "code",
   "execution_count": 9,
   "id": "f14bc83d-19f8-4149-843e-1cdf0a3bb199",
   "metadata": {},
   "outputs": [],
   "source": [
    "l1.append(4)"
   ]
  },
  {
   "cell_type": "code",
   "execution_count": 10,
   "id": "6263450a-2841-452d-8402-c1c86dbe3b3f",
   "metadata": {},
   "outputs": [
    {
     "data": {
      "text/plain": [
       "([1, 2, 3, 4], [1, 2, 3])"
      ]
     },
     "execution_count": 10,
     "metadata": {},
     "output_type": "execute_result"
    }
   ],
   "source": [
    "l1, l2"
   ]
  },
  {
   "cell_type": "markdown",
   "id": "122e8fa1-ba81-481c-a637-1f2560e05b16",
   "metadata": {},
   "source": [
    "# str"
   ]
  },
  {
   "cell_type": "code",
   "execution_count": 7,
   "id": "d1bbeff6-1ba9-49a9-a5bf-d9093332a45d",
   "metadata": {},
   "outputs": [],
   "source": [
    "#    0123456\n",
    "s = \"Python rocks!\""
   ]
  },
  {
   "cell_type": "code",
   "execution_count": 8,
   "id": "c70115e2-7745-42c8-bc1d-e412bfa8f32e",
   "metadata": {},
   "outputs": [
    {
     "data": {
      "text/plain": [
       "'Python'"
      ]
     },
     "execution_count": 8,
     "metadata": {},
     "output_type": "execute_result"
    }
   ],
   "source": [
    "# include, exclude\n",
    "s[0:6]"
   ]
  },
  {
   "cell_type": "code",
   "execution_count": null,
   "id": "8e5a0e2d-9f9e-48e6-af60-43e3dc640512",
   "metadata": {},
   "outputs": [],
   "source": []
  }
 ],
 "metadata": {
  "kernelspec": {
   "display_name": "Python 3 (ipykernel)",
   "language": "python",
   "name": "python3"
  },
  "language_info": {
   "codemirror_mode": {
    "name": "ipython",
    "version": 3
   },
   "file_extension": ".py",
   "mimetype": "text/x-python",
   "name": "python",
   "nbconvert_exporter": "python",
   "pygments_lexer": "ipython3",
   "version": "3.10.4"
  }
 },
 "nbformat": 4,
 "nbformat_minor": 5
}
