{
 "cells": [
  {
   "cell_type": "code",
   "execution_count": 1,
   "id": "e0aa298c-bba9-4748-a0cb-a83e320deb6e",
   "metadata": {},
   "outputs": [],
   "source": [
    "s = \"python rocks\""
   ]
  },
  {
   "cell_type": "markdown",
   "id": "23522af7-01a2-4166-bd53-f98693f437a5",
   "metadata": {},
   "source": [
    "# strはsequenceなので、sliceができる"
   ]
  },
  {
   "cell_type": "code",
   "execution_count": 2,
   "id": "a8abe389-7197-42ea-ad05-748aeeb90c47",
   "metadata": {},
   "outputs": [
    {
     "data": {
      "text/plain": [
       "'p'"
      ]
     },
     "execution_count": 2,
     "metadata": {},
     "output_type": "execute_result"
    }
   ],
   "source": [
    "s[0]"
   ]
  },
  {
   "cell_type": "code",
   "execution_count": 3,
   "id": "8b1709d8-e6b1-48e4-b2af-336c2e5e6d3e",
   "metadata": {},
   "outputs": [
    {
     "data": {
      "text/plain": [
       "'s'"
      ]
     },
     "execution_count": 3,
     "metadata": {},
     "output_type": "execute_result"
    }
   ],
   "source": [
    "s[-1]"
   ]
  },
  {
   "cell_type": "markdown",
   "id": "9168bd97-6b4a-4716-837e-ce7fad613258",
   "metadata": {},
   "source": [
    "# strはimmutable"
   ]
  },
  {
   "cell_type": "code",
   "execution_count": 5,
   "id": "6eb9a9fe-ef81-4053-94f3-7b92bf90f2f3",
   "metadata": {},
   "outputs": [
    {
     "ename": "TypeError",
     "evalue": "'str' object does not support item assignment",
     "output_type": "error",
     "traceback": [
      "\u001b[1;31m---------------------------------------------------------------------------\u001b[0m",
      "\u001b[1;31mTypeError\u001b[0m                                 Traceback (most recent call last)",
      "Cell \u001b[1;32mIn[5], line 1\u001b[0m\n\u001b[1;32m----> 1\u001b[0m \u001b[43ms\u001b[49m\u001b[43m[\u001b[49m\u001b[38;5;241;43m0\u001b[39;49m\u001b[43m]\u001b[49m \u001b[38;5;241m=\u001b[39m \u001b[38;5;124m\"\u001b[39m\u001b[38;5;124mP\u001b[39m\u001b[38;5;124m\"\u001b[39m\n",
      "\u001b[1;31mTypeError\u001b[0m: 'str' object does not support item assignment"
     ]
    }
   ],
   "source": [
    "s[0] = \"P\""
   ]
  },
  {
   "cell_type": "markdown",
   "id": "84a6a645-d85a-4125-9e88-cf0f46566459",
   "metadata": {},
   "source": [
    "# str -> tuple"
   ]
  },
  {
   "cell_type": "code",
   "execution_count": 6,
   "id": "81d3077f-86f4-4b10-8641-df289b6b6ce1",
   "metadata": {},
   "outputs": [
    {
     "data": {
      "text/plain": [
       "('p', 'y', 't', 'h', 'o', 'n')"
      ]
     },
     "execution_count": 6,
     "metadata": {},
     "output_type": "execute_result"
    }
   ],
   "source": [
    "s = \"python\"\n",
    "t = tuple(s)\n",
    "t"
   ]
  },
  {
   "cell_type": "markdown",
   "id": "63a7d3e4-9f8a-4147-a6e5-964cebe7945d",
   "metadata": {},
   "source": [
    "# str -> list"
   ]
  },
  {
   "cell_type": "code",
   "execution_count": 7,
   "id": "75a3ff3d-55c1-4b35-9909-2784a370842d",
   "metadata": {},
   "outputs": [
    {
     "data": {
      "text/plain": [
       "['a', 'b', 'c', 'd', 'e', 'f']"
      ]
     },
     "execution_count": 7,
     "metadata": {},
     "output_type": "execute_result"
    }
   ],
   "source": [
    "l = list(\"abcdef\")\n",
    "l"
   ]
  },
  {
   "cell_type": "code",
   "execution_count": null,
   "id": "fcf02e0c-732d-4e15-81e1-b0eaee43d639",
   "metadata": {},
   "outputs": [],
   "source": []
  }
 ],
 "metadata": {
  "kernelspec": {
   "display_name": "Python 3 (ipykernel)",
   "language": "python",
   "name": "python3"
  },
  "language_info": {
   "codemirror_mode": {
    "name": "ipython",
    "version": 3
   },
   "file_extension": ".py",
   "mimetype": "text/x-python",
   "name": "python",
   "nbconvert_exporter": "python",
   "pygments_lexer": "ipython3",
   "version": "3.10.4"
  }
 },
 "nbformat": 4,
 "nbformat_minor": 5
}
