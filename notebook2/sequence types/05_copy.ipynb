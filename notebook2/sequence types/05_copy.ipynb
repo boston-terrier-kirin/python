{
 "cells": [
  {
   "cell_type": "markdown",
   "id": "80bc5416-cd6b-465e-9e21-169bc688a678",
   "metadata": {},
   "source": [
    "# mutableをコピーする場合は要注意"
   ]
  },
  {
   "cell_type": "code",
   "execution_count": 21,
   "id": "524e2849-a1d8-4aa7-b2f5-c458842f2d32",
   "metadata": {},
   "outputs": [],
   "source": [
    "from copy import deepcopy"
   ]
  },
  {
   "cell_type": "code",
   "execution_count": 22,
   "id": "795d99ff-816b-4f38-afe4-5d254fd71893",
   "metadata": {},
   "outputs": [],
   "source": [
    "l1 = [[1, 2, 3], [4, 5, 6]]"
   ]
  },
  {
   "cell_type": "code",
   "execution_count": 23,
   "id": "13c20150-cc04-45de-8394-c0add73d79f4",
   "metadata": {},
   "outputs": [],
   "source": [
    "l2 = l1[:]"
   ]
  },
  {
   "cell_type": "code",
   "execution_count": 24,
   "id": "fedda37f-3662-414e-8d72-65ce4a267eed",
   "metadata": {},
   "outputs": [],
   "source": [
    "l3 = deepcopy(l1)"
   ]
  },
  {
   "cell_type": "code",
   "execution_count": 25,
   "id": "06e135b5-0900-4d6f-be6f-498569e295f3",
   "metadata": {},
   "outputs": [
    {
     "data": {
      "text/plain": [
       "(2791080421568, 2791080421568, 2791081326656)"
      ]
     },
     "execution_count": 25,
     "metadata": {},
     "output_type": "execute_result"
    }
   ],
   "source": [
    "id(l1[0]), id(l2[0]), id(l3[0])"
   ]
  },
  {
   "cell_type": "code",
   "execution_count": 26,
   "id": "befd6998-e016-4e6e-be40-f9c91dfe2ec5",
   "metadata": {},
   "outputs": [],
   "source": [
    "l1[0][0] = 100"
   ]
  },
  {
   "cell_type": "code",
   "execution_count": 27,
   "id": "4470ee6f-34e1-4e0d-8dbe-1a7ac4f0b2ca",
   "metadata": {},
   "outputs": [
    {
     "data": {
      "text/plain": [
       "[[100, 2, 3], [4, 5, 6]]"
      ]
     },
     "execution_count": 27,
     "metadata": {},
     "output_type": "execute_result"
    }
   ],
   "source": [
    "l1"
   ]
  },
  {
   "cell_type": "code",
   "execution_count": 28,
   "id": "704dc0a0-10d5-4f94-97fa-f78bd4e04fac",
   "metadata": {},
   "outputs": [
    {
     "data": {
      "text/plain": [
       "[[100, 2, 3], [4, 5, 6]]"
      ]
     },
     "execution_count": 28,
     "metadata": {},
     "output_type": "execute_result"
    }
   ],
   "source": [
    "l2"
   ]
  },
  {
   "cell_type": "code",
   "execution_count": 29,
   "id": "8469a7d6-5bd6-45d8-9c8a-52de14d85678",
   "metadata": {},
   "outputs": [
    {
     "data": {
      "text/plain": [
       "[[1, 2, 3], [4, 5, 6]]"
      ]
     },
     "execution_count": 29,
     "metadata": {},
     "output_type": "execute_result"
    }
   ],
   "source": [
    "l3"
   ]
  },
  {
   "cell_type": "markdown",
   "id": "0b24f76e-42c4-48e5-86f2-3f56187d5922",
   "metadata": {},
   "source": [
    "# immutableをコピーする場合は大丈夫"
   ]
  },
  {
   "cell_type": "code",
   "execution_count": 13,
   "id": "7b304097-758e-4eb7-9be9-1561709c4cda",
   "metadata": {},
   "outputs": [],
   "source": [
    "l1 = [1, 2, 3, 4, 5, 6]"
   ]
  },
  {
   "cell_type": "code",
   "execution_count": 14,
   "id": "9ac8f203-8a6c-43b6-9416-f7e54a4648ad",
   "metadata": {},
   "outputs": [],
   "source": [
    "l2 = l1[::]"
   ]
  },
  {
   "cell_type": "code",
   "execution_count": 15,
   "id": "112e0e54-b852-486b-804c-27c2bf6bd152",
   "metadata": {},
   "outputs": [
    {
     "data": {
      "text/plain": [
       "(2791001686256, 2791001686256)"
      ]
     },
     "execution_count": 15,
     "metadata": {},
     "output_type": "execute_result"
    }
   ],
   "source": [
    "id(l1[0]), id(l2[0])"
   ]
  },
  {
   "cell_type": "code",
   "execution_count": 20,
   "id": "93feb4ed-1985-4a7e-9d60-5545faeaebf3",
   "metadata": {},
   "outputs": [],
   "source": [
    "# immutableの場合、新しいアドレスになるので問題なし\n",
    "l1[0] = 100"
   ]
  },
  {
   "cell_type": "code",
   "execution_count": 17,
   "id": "8c8ba34a-b34b-49ab-b04d-4983801dd549",
   "metadata": {},
   "outputs": [
    {
     "data": {
      "text/plain": [
       "(2791001689424, 2791001686256)"
      ]
     },
     "execution_count": 17,
     "metadata": {},
     "output_type": "execute_result"
    }
   ],
   "source": [
    "id(l1[0]), id(l2[0])"
   ]
  },
  {
   "cell_type": "code",
   "execution_count": 18,
   "id": "69b74dea-84b3-4575-bfe7-5fc46da8b16e",
   "metadata": {},
   "outputs": [
    {
     "data": {
      "text/plain": [
       "[100, 2, 3, 4, 5, 6]"
      ]
     },
     "execution_count": 18,
     "metadata": {},
     "output_type": "execute_result"
    }
   ],
   "source": [
    "l1"
   ]
  },
  {
   "cell_type": "code",
   "execution_count": 19,
   "id": "13984ad1-dbcd-4b8c-a2ad-2adc12af1b30",
   "metadata": {},
   "outputs": [
    {
     "data": {
      "text/plain": [
       "[1, 2, 3, 4, 5, 6]"
      ]
     },
     "execution_count": 19,
     "metadata": {},
     "output_type": "execute_result"
    }
   ],
   "source": [
    "l2"
   ]
  },
  {
   "cell_type": "code",
   "execution_count": null,
   "id": "bc1dd272-6526-49d7-99d5-ff7a359b3228",
   "metadata": {},
   "outputs": [],
   "source": []
  }
 ],
 "metadata": {
  "kernelspec": {
   "display_name": "Python 3 (ipykernel)",
   "language": "python",
   "name": "python3"
  },
  "language_info": {
   "codemirror_mode": {
    "name": "ipython",
    "version": 3
   },
   "file_extension": ".py",
   "mimetype": "text/x-python",
   "name": "python",
   "nbconvert_exporter": "python",
   "pygments_lexer": "ipython3",
   "version": "3.10.4"
  }
 },
 "nbformat": 4,
 "nbformat_minor": 5
}
