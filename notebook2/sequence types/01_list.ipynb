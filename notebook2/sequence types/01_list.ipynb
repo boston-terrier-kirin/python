{
 "cells": [
  {
   "cell_type": "markdown",
   "id": "58659f17-8715-483a-84d5-c88def88124a",
   "metadata": {},
   "source": [
    "# * は同じポインターになってしまう"
   ]
  },
  {
   "cell_type": "code",
   "execution_count": 8,
   "id": "25edcdc6-2010-4e94-9fef-0e4daf714da4",
   "metadata": {},
   "outputs": [
    {
     "data": {
      "text/plain": [
       "[[0, 0, 0], [0, 0, 0], [0, 0, 0]]"
      ]
     },
     "execution_count": 8,
     "metadata": {},
     "output_type": "execute_result"
    }
   ],
   "source": [
    "l = [[0, 0, 0]] * 3\n",
    "l"
   ]
  },
  {
   "cell_type": "code",
   "execution_count": 3,
   "id": "c5a93790-9d0e-46bc-ae3f-ac12ce1557e7",
   "metadata": {},
   "outputs": [
    {
     "data": {
      "text/plain": [
       "True"
      ]
     },
     "execution_count": 3,
     "metadata": {},
     "output_type": "execute_result"
    }
   ],
   "source": [
    "l[0] is l[1]"
   ]
  },
  {
   "cell_type": "code",
   "execution_count": 9,
   "id": "f246236a-50da-4cd2-8f03-99ec6e09d267",
   "metadata": {},
   "outputs": [
    {
     "data": {
      "text/plain": [
       "(2132879182784, 2132879182784)"
      ]
     },
     "execution_count": 9,
     "metadata": {},
     "output_type": "execute_result"
    }
   ],
   "source": [
    "id(l[0]), id(l[1])"
   ]
  },
  {
   "cell_type": "markdown",
   "id": "ac92e134-b681-49c5-9085-ffd30fe1c358",
   "metadata": {},
   "source": [
    "# 同じポインターなので、先頭を変えると全部変わってしまう"
   ]
  },
  {
   "cell_type": "code",
   "execution_count": 7,
   "id": "c1e6e55a-26b7-45e7-92d9-cfbf5326b769",
   "metadata": {},
   "outputs": [
    {
     "data": {
      "text/plain": [
       "[[1, 0, 0], [1, 0, 0], [1, 0, 0]]"
      ]
     },
     "execution_count": 7,
     "metadata": {},
     "output_type": "execute_result"
    }
   ],
   "source": [
    "l[0][0] = 1\n",
    "l"
   ]
  },
  {
   "cell_type": "code",
   "execution_count": null,
   "id": "08321f81-2ff2-451b-bde2-5800e30ddc09",
   "metadata": {},
   "outputs": [],
   "source": []
  }
 ],
 "metadata": {
  "kernelspec": {
   "display_name": "Python 3 (ipykernel)",
   "language": "python",
   "name": "python3"
  },
  "language_info": {
   "codemirror_mode": {
    "name": "ipython",
    "version": 3
   },
   "file_extension": ".py",
   "mimetype": "text/x-python",
   "name": "python",
   "nbconvert_exporter": "python",
   "pygments_lexer": "ipython3",
   "version": "3.10.4"
  }
 },
 "nbformat": 4,
 "nbformat_minor": 5
}
