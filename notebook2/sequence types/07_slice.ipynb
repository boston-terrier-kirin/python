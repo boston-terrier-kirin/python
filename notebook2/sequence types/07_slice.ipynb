{
 "cells": [
  {
   "cell_type": "markdown",
   "id": "674ca3b4-f213-4b4d-96dc-fa1689dcee03",
   "metadata": {},
   "source": [
    "# 変数でsliceはできる"
   ]
  },
  {
   "cell_type": "code",
   "execution_count": 1,
   "id": "8b786c78-cb6e-4f68-a2d1-a57cc5fc8bce",
   "metadata": {},
   "outputs": [
    {
     "data": {
      "text/plain": [
       "'pyt'"
      ]
     },
     "execution_count": 1,
     "metadata": {},
     "output_type": "execute_result"
    }
   ],
   "source": [
    "char = \"python\"\n",
    "start = 0\n",
    "end = 3\n",
    "char[start:end]"
   ]
  },
  {
   "cell_type": "markdown",
   "id": "8b110dc4-067f-4247-93c1-25526e7417ac",
   "metadata": {},
   "source": [
    "# sliceでsliceもできる"
   ]
  },
  {
   "cell_type": "code",
   "execution_count": 2,
   "id": "991c1d60-4bb3-40d4-9b95-8355e9644fcd",
   "metadata": {},
   "outputs": [
    {
     "data": {
      "text/plain": [
       "'pyt'"
      ]
     },
     "execution_count": 2,
     "metadata": {},
     "output_type": "execute_result"
    }
   ],
   "source": [
    "char = \"python\"\n",
    "s = slice(0, 3)\n",
    "char[s]"
   ]
  },
  {
   "cell_type": "markdown",
   "id": "24ee7328-d10a-41ff-9438-45e7e0651434",
   "metadata": {},
   "source": [
    "# 省略する場合は、None"
   ]
  },
  {
   "cell_type": "code",
   "execution_count": 3,
   "id": "e29e9939-35c4-4a65-b7d7-b3586c647532",
   "metadata": {},
   "outputs": [
    {
     "data": {
      "text/plain": [
       "'hon'"
      ]
     },
     "execution_count": 3,
     "metadata": {},
     "output_type": "execute_result"
    }
   ],
   "source": [
    "char = \"python\"\n",
    "s = slice(3, None)\n",
    "char[s]"
   ]
  },
  {
   "cell_type": "markdown",
   "id": "20531ca1-4712-4f6e-a381-005ea6649c11",
   "metadata": {},
   "source": [
    "# stepをマイナスにした場合"
   ]
  },
  {
   "cell_type": "code",
   "execution_count": 9,
   "id": "ccb8fc60-37b3-44bf-9b04-df0e4ba6b07e",
   "metadata": {},
   "outputs": [
    {
     "data": {
      "text/plain": [
       "'43'"
      ]
     },
     "execution_count": 9,
     "metadata": {},
     "output_type": "execute_result"
    }
   ],
   "source": [
    "# 後ろから見てくれる\n",
    "#        * *\n",
    "#       01234\n",
    "char = \"12345\"\n",
    "char[3:1:-1]"
   ]
  },
  {
   "cell_type": "code",
   "execution_count": null,
   "id": "6196ab65-8430-4c9c-a1fb-9c684005f13d",
   "metadata": {},
   "outputs": [],
   "source": []
  }
 ],
 "metadata": {
  "kernelspec": {
   "display_name": "Python 3 (ipykernel)",
   "language": "python",
   "name": "python3"
  },
  "language_info": {
   "codemirror_mode": {
    "name": "ipython",
    "version": 3
   },
   "file_extension": ".py",
   "mimetype": "text/x-python",
   "name": "python",
   "nbconvert_exporter": "python",
   "pygments_lexer": "ipython3",
   "version": "3.10.4"
  }
 },
 "nbformat": 4,
 "nbformat_minor": 5
}
