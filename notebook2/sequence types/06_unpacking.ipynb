{
 "cells": [
  {
   "cell_type": "markdown",
   "id": "3524dd10-4543-42f2-a488-0ca3072b6c76",
   "metadata": {},
   "source": [
    "# 通常の言語の場合"
   ]
  },
  {
   "cell_type": "code",
   "execution_count": 9,
   "id": "ff8d0c4e-d075-4a42-a3ae-e0228058c968",
   "metadata": {},
   "outputs": [],
   "source": [
    "a = 10\n",
    "b = 20\n",
    "\n",
    "temp = b\n",
    "b = a\n",
    "a = temp"
   ]
  },
  {
   "cell_type": "code",
   "execution_count": 4,
   "id": "7768b98e-5f6f-4bee-859a-e06553ea7ad8",
   "metadata": {},
   "outputs": [
    {
     "data": {
      "text/plain": [
       "(20, 10)"
      ]
     },
     "execution_count": 4,
     "metadata": {},
     "output_type": "execute_result"
    }
   ],
   "source": [
    "a, b"
   ]
  },
  {
   "cell_type": "markdown",
   "id": "98fe45f0-1fec-4c5d-9d33-0c9f6b57ed94",
   "metadata": {},
   "source": [
    "# unpackingを使う"
   ]
  },
  {
   "cell_type": "code",
   "execution_count": 10,
   "id": "1e1a1e2b-d912-4f0c-a9d0-7c04cea9381e",
   "metadata": {},
   "outputs": [],
   "source": [
    "a = 10\n",
    "b = 20\n",
    "\n",
    "# 右側が先に評価されて、(b, a)はtupleの(20, 10)として評価される\n",
    "# a, b = (20, 10)\n",
    "a, b = b, a"
   ]
  },
  {
   "cell_type": "code",
   "execution_count": 11,
   "id": "e24e5f97-9542-40a4-a8f7-f31c6e06cc44",
   "metadata": {},
   "outputs": [
    {
     "data": {
      "text/plain": [
       "(20, 10)"
      ]
     },
     "execution_count": 11,
     "metadata": {},
     "output_type": "execute_result"
    }
   ],
   "source": [
    "a, b"
   ]
  },
  {
   "cell_type": "code",
   "execution_count": null,
   "id": "a7bad308-d08e-46fd-9b74-a2209399bb97",
   "metadata": {},
   "outputs": [],
   "source": []
  }
 ],
 "metadata": {
  "kernelspec": {
   "display_name": "Python 3 (ipykernel)",
   "language": "python",
   "name": "python3"
  },
  "language_info": {
   "codemirror_mode": {
    "name": "ipython",
    "version": 3
   },
   "file_extension": ".py",
   "mimetype": "text/x-python",
   "name": "python",
   "nbconvert_exporter": "python",
   "pygments_lexer": "ipython3",
   "version": "3.10.4"
  }
 },
 "nbformat": 4,
 "nbformat_minor": 5
}
