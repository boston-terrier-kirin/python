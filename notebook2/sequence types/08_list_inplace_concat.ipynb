{
 "cells": [
  {
   "cell_type": "markdown",
   "id": "2affd08f-39ad-4df2-abde-a8a970baa67c",
   "metadata": {},
   "source": [
    "# +="
   ]
  },
  {
   "cell_type": "code",
   "execution_count": 1,
   "id": "0ccb34d9-df2d-4142-bbbe-791395e0c26a",
   "metadata": {},
   "outputs": [],
   "source": [
    "l1 = [1, 2, 3]\n",
    "l2 = [4, 5, 6]"
   ]
  },
  {
   "cell_type": "code",
   "execution_count": 7,
   "id": "d187ba56-beac-40ab-b201-220802a9cf73",
   "metadata": {},
   "outputs": [
    {
     "name": "stdout",
     "output_type": "stream",
     "text": [
      "1845265257984\n",
      "1845265257792\n"
     ]
    },
    {
     "data": {
      "text/plain": [
       "(None, None)"
      ]
     },
     "execution_count": 7,
     "metadata": {},
     "output_type": "execute_result"
    }
   ],
   "source": [
    "print(id(l1)), print(id(l2))"
   ]
  },
  {
   "cell_type": "code",
   "execution_count": 8,
   "id": "19e723b7-e461-4115-b203-3bc1deed2851",
   "metadata": {},
   "outputs": [],
   "source": [
    "# += でconcatすると、アドレスは変わらない\n",
    "l1 += l2"
   ]
  },
  {
   "cell_type": "code",
   "execution_count": 9,
   "id": "13cd54f1-eb91-4ed4-ac48-b86b71234c99",
   "metadata": {},
   "outputs": [
    {
     "name": "stdout",
     "output_type": "stream",
     "text": [
      "1845265257984\n",
      "[1, 2, 3, 4, 5, 6, 4, 5, 6, 4, 5, 6]\n"
     ]
    },
    {
     "data": {
      "text/plain": [
       "(None, None)"
      ]
     },
     "execution_count": 9,
     "metadata": {},
     "output_type": "execute_result"
    }
   ],
   "source": [
    "print(id(l1)), print(l1)"
   ]
  },
  {
   "cell_type": "markdown",
   "id": "1de36676-0930-45df-8029-5137e5a0e792",
   "metadata": {},
   "source": [
    "# +"
   ]
  },
  {
   "cell_type": "code",
   "execution_count": 16,
   "id": "f20df224-190b-4df7-9451-1d2f45c34fa9",
   "metadata": {},
   "outputs": [],
   "source": [
    "l1 = [1, 2, 3]\n",
    "l2 = [4, 5, 6]"
   ]
  },
  {
   "cell_type": "code",
   "execution_count": 17,
   "id": "e9954bc4-5097-46be-a00b-45f8932aecbd",
   "metadata": {},
   "outputs": [
    {
     "name": "stdout",
     "output_type": "stream",
     "text": [
      "1845265026816\n",
      "1845264546944\n"
     ]
    },
    {
     "data": {
      "text/plain": [
       "(None, None)"
      ]
     },
     "execution_count": 17,
     "metadata": {},
     "output_type": "execute_result"
    }
   ],
   "source": [
    "print(id(l1)), print(id(l2))"
   ]
  },
  {
   "cell_type": "code",
   "execution_count": 18,
   "id": "b2789306-5155-4688-803e-33bd8eaacdfc",
   "metadata": {},
   "outputs": [],
   "source": [
    "# + でconcatすると、アドレスが変わる\n",
    "l1= l1 + l2"
   ]
  },
  {
   "cell_type": "code",
   "execution_count": 19,
   "id": "3b2ac5db-0e0f-41af-8694-6e2e26149f51",
   "metadata": {},
   "outputs": [
    {
     "name": "stdout",
     "output_type": "stream",
     "text": [
      "1845265259456\n",
      "[1, 2, 3, 4, 5, 6]\n"
     ]
    },
    {
     "data": {
      "text/plain": [
       "(None, None)"
      ]
     },
     "execution_count": 19,
     "metadata": {},
     "output_type": "execute_result"
    }
   ],
   "source": [
    "print(id(l1)), print(l1)"
   ]
  },
  {
   "cell_type": "code",
   "execution_count": null,
   "id": "3d7c074b-6e5d-4485-8478-065ae1de9e27",
   "metadata": {},
   "outputs": [],
   "source": []
  }
 ],
 "metadata": {
  "kernelspec": {
   "display_name": "Python 3 (ipykernel)",
   "language": "python",
   "name": "python3"
  },
  "language_info": {
   "codemirror_mode": {
    "name": "ipython",
    "version": 3
   },
   "file_extension": ".py",
   "mimetype": "text/x-python",
   "name": "python",
   "nbconvert_exporter": "python",
   "pygments_lexer": "ipython3",
   "version": "3.10.4"
  }
 },
 "nbformat": 4,
 "nbformat_minor": 5
}
