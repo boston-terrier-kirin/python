{
 "cells": [
  {
   "cell_type": "code",
   "execution_count": 1,
   "id": "c68cd585-f32c-44f0-b75c-a870029e707f",
   "metadata": {},
   "outputs": [
    {
     "data": {
      "text/plain": [
       "65535"
      ]
     },
     "execution_count": 1,
     "metadata": {},
     "output_type": "execute_result"
    }
   ],
   "source": [
    "int(\"ffff\", base=16)"
   ]
  },
  {
   "cell_type": "code",
   "execution_count": 4,
   "id": "2d81cccc-7a89-46b5-9245-3d3c411b8fb4",
   "metadata": {},
   "outputs": [
    {
     "data": {
      "text/plain": [
       "'0xffff'"
      ]
     },
     "execution_count": 4,
     "metadata": {},
     "output_type": "execute_result"
    }
   ],
   "source": [
    "hex(65535)"
   ]
  },
  {
   "cell_type": "code",
   "execution_count": 7,
   "id": "dbffe2a1-1b82-437f-94bd-b6e1f27e7e0f",
   "metadata": {},
   "outputs": [],
   "source": [
    "a = 0xffff"
   ]
  },
  {
   "cell_type": "code",
   "execution_count": 8,
   "id": "96b5c7bf-cdd1-428d-8aba-b2ca61bbdb19",
   "metadata": {},
   "outputs": [
    {
     "data": {
      "text/plain": [
       "65535"
      ]
     },
     "execution_count": 8,
     "metadata": {},
     "output_type": "execute_result"
    }
   ],
   "source": [
    "a"
   ]
  },
  {
   "cell_type": "markdown",
   "id": "d3851282-7f5b-4e67-98c3-907620a7b26c",
   "metadata": {},
   "source": [
    "# convert base10 to others"
   ]
  },
  {
   "cell_type": "code",
   "execution_count": 9,
   "id": "74012208-051d-464f-a12b-433ce073047f",
   "metadata": {},
   "outputs": [],
   "source": [
    "def from_base10(number, base):\n",
    "    if base < 2:\n",
    "        raise ValueError(\"Base must be >= 2\")\n",
    "    if number < 0:\n",
    "        raise ValueError(\"Number must be >= 0\")\n",
    "    if number == 0:\n",
    "        return [0]\n",
    "\n",
    "    digits = []\n",
    "    while number > 0:\n",
    "        mod = number % base\n",
    "        number = number // base\n",
    "        digits.insert(0, mod)\n",
    "    return digits"
   ]
  },
  {
   "cell_type": "code",
   "execution_count": 10,
   "id": "33615edf-f596-4cdb-b57d-25dc17a8aa15",
   "metadata": {},
   "outputs": [
    {
     "data": {
      "text/plain": [
       "[1, 0, 1, 0]"
      ]
     },
     "execution_count": 10,
     "metadata": {},
     "output_type": "execute_result"
    }
   ],
   "source": [
    "from_base10(10, 2)"
   ]
  },
  {
   "cell_type": "code",
   "execution_count": 15,
   "id": "4e37246b-6b1c-40d1-b0ac-15f0a08f2894",
   "metadata": {},
   "outputs": [],
   "source": [
    "def encode(digits, digit_map):\n",
    "    if max(digits) >= len(digit_map):\n",
    "        raise ValueError(\"digit_map is not long enough to encode the digits\")\n",
    "\n",
    "    return \"\".join([digit_map[d] for d in digits])"
   ]
  },
  {
   "cell_type": "code",
   "execution_count": 16,
   "id": "dffcdda9-cd7d-420b-b5aa-e52ee4861600",
   "metadata": {},
   "outputs": [
    {
     "data": {
      "text/plain": [
       "'ff'"
      ]
     },
     "execution_count": 16,
     "metadata": {},
     "output_type": "execute_result"
    }
   ],
   "source": [
    "encode([15, 15], \"0123456789abcdef\")"
   ]
  },
  {
   "cell_type": "code",
   "execution_count": 17,
   "id": "22624005-96a4-4daf-a806-910bc3e4f10c",
   "metadata": {},
   "outputs": [],
   "source": [
    "def rebase_from10(number, base):\n",
    "    digit_map = \"0123456789abcdef\"\n",
    "    if base < 2 or base > 16:\n",
    "        raise ValueError(\"Invalid base: 2 <= base <= 36\")\n",
    "\n",
    "    sign = -1 if number < 0 else 1\n",
    "    number = number * sign\n",
    "\n",
    "    digits = from_base10(number, base)\n",
    "    encoding = encode(digits, digit_map)\n",
    "\n",
    "    if sign == -1:\n",
    "        encoding = \"-\" + encoding\n",
    "\n",
    "    return encoding"
   ]
  },
  {
   "cell_type": "code",
   "execution_count": 18,
   "id": "a3227f9d-e66b-4100-97e9-27de4bac0da3",
   "metadata": {},
   "outputs": [
    {
     "data": {
      "text/plain": [
       "'ffff'"
      ]
     },
     "execution_count": 18,
     "metadata": {},
     "output_type": "execute_result"
    }
   ],
   "source": [
    "rebase_from10(65535, 16)"
   ]
  },
  {
   "cell_type": "code",
   "execution_count": null,
   "id": "ac24f759-2f42-4ef1-8873-5f9a82a8e7f6",
   "metadata": {},
   "outputs": [],
   "source": []
  }
 ],
 "metadata": {
  "kernelspec": {
   "display_name": "Python 3 (ipykernel)",
   "language": "python",
   "name": "python3"
  },
  "language_info": {
   "codemirror_mode": {
    "name": "ipython",
    "version": 3
   },
   "file_extension": ".py",
   "mimetype": "text/x-python",
   "name": "python",
   "nbconvert_exporter": "python",
   "pygments_lexer": "ipython3",
   "version": "3.10.4"
  }
 },
 "nbformat": 4,
 "nbformat_minor": 5
}
