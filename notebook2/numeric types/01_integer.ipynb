{
 "cells": [
  {
   "cell_type": "markdown",
   "id": "285a555d-3fad-48d4-bb8b-8cc7bdf35378",
   "metadata": {},
   "source": [
    "# 8bit = 1byte"
   ]
  },
  {
   "cell_type": "markdown",
   "id": "7307ecdd-8487-4bc3-8c04-c28d6ea29b96",
   "metadata": {},
   "source": [
    "# 8bitで表現できる最大値は？"
   ]
  },
  {
   "cell_type": "code",
   "execution_count": 3,
   "id": "b203c577-49e0-4e44-ba27-60e60869a261",
   "metadata": {},
   "outputs": [
    {
     "data": {
      "text/plain": [
       "255"
      ]
     },
     "execution_count": 3,
     "metadata": {},
     "output_type": "execute_result"
    }
   ],
   "source": [
    "# 11111111\n",
    "2**0 + 2**1 + 2**2 + 2**3 + 2**4 + 2**5 + 2**6 + 2**7 "
   ]
  },
  {
   "cell_type": "code",
   "execution_count": 4,
   "id": "2491ce88-a742-4ecf-9d68-02aabe9e582b",
   "metadata": {},
   "outputs": [
    {
     "data": {
      "text/plain": [
       "255"
      ]
     },
     "execution_count": 4,
     "metadata": {},
     "output_type": "execute_result"
    }
   ],
   "source": [
    "# 11111111\n",
    "2 ** 8 - 1"
   ]
  },
  {
   "cell_type": "markdown",
   "id": "5f179d61-0103-4148-afc9-7bfdde16658d",
   "metadata": {},
   "source": [
    "# 8bitでマイナスを考慮すると？"
   ]
  },
  {
   "cell_type": "code",
   "execution_count": 8,
   "id": "29d8fb06-278e-4af9-a918-97882db0049b",
   "metadata": {},
   "outputs": [
    {
     "data": {
      "text/plain": [
       "(128, 127)"
      ]
     },
     "execution_count": 8,
     "metadata": {},
     "output_type": "execute_result"
    }
   ],
   "source": [
    "# - で1bit減るので、[-127, 127]になる\n",
    "# 0は - が不要なので、[-128, 127]になる\n",
    "2 ** 7, 2 ** 7 - 1"
   ]
  },
  {
   "cell_type": "markdown",
   "id": "1b8e6e41-7656-4ee8-982a-add72f909cac",
   "metadata": {},
   "source": [
    "# 16bitの場合"
   ]
  },
  {
   "cell_type": "code",
   "execution_count": 9,
   "id": "38cfe9c8-6ec2-4893-86f3-3fbb1501fb31",
   "metadata": {},
   "outputs": [
    {
     "data": {
      "text/plain": [
       "(32768, 32767)"
      ]
     },
     "execution_count": 9,
     "metadata": {},
     "output_type": "execute_result"
    }
   ],
   "source": [
    "2**(16-1), 2**(16-1)-1"
   ]
  },
  {
   "cell_type": "markdown",
   "id": "19a2f9d1-20e1-45a7-9ac5-aea9411191ee",
   "metadata": {},
   "source": [
    "# In a 32-bit OS"
   ]
  },
  {
   "cell_type": "code",
   "execution_count": 12,
   "id": "bd85c104-aed5-4c47-9548-99d792030cbd",
   "metadata": {},
   "outputs": [
    {
     "data": {
      "text/plain": [
       "'4294967296 bytes'"
      ]
     },
     "execution_count": 12,
     "metadata": {},
     "output_type": "execute_result"
    }
   ],
   "source": [
    "str(2**32) + \" bytes\""
   ]
  },
  {
   "cell_type": "code",
   "execution_count": 15,
   "id": "6ae5db67-e038-48ea-af99-ea488912e1ca",
   "metadata": {},
   "outputs": [
    {
     "data": {
      "text/plain": [
       "'4194304.0 kb'"
      ]
     },
     "execution_count": 15,
     "metadata": {},
     "output_type": "execute_result"
    }
   ],
   "source": [
    "str(2**32 / 1024) + \" KB\""
   ]
  },
  {
   "cell_type": "code",
   "execution_count": 17,
   "id": "2fca8699-bf3f-4fb1-932b-cca2ae2fa519",
   "metadata": {},
   "outputs": [
    {
     "data": {
      "text/plain": [
       "'4096.0 MB'"
      ]
     },
     "execution_count": 17,
     "metadata": {},
     "output_type": "execute_result"
    }
   ],
   "source": [
    "str(2**32 / 1024 / 1024) + \" MB\""
   ]
  },
  {
   "cell_type": "code",
   "execution_count": 18,
   "id": "fad1655c-c35a-4adc-8c82-9dddf5c0cf3e",
   "metadata": {},
   "outputs": [
    {
     "data": {
      "text/plain": [
       "'4.0 GB'"
      ]
     },
     "execution_count": 18,
     "metadata": {},
     "output_type": "execute_result"
    }
   ],
   "source": [
    "str(2**32 / 1024 / 1024 / 1024) + \" GB\""
   ]
  },
  {
   "cell_type": "markdown",
   "id": "2491e57a-c302-4dda-a3a9-99254f62a011",
   "metadata": {},
   "source": [
    "# 変数のサイズを取得する"
   ]
  },
  {
   "cell_type": "code",
   "execution_count": 20,
   "id": "4f1bbef3-a174-4d32-8f9a-9c41b7866b68",
   "metadata": {},
   "outputs": [],
   "source": [
    "import sys"
   ]
  },
  {
   "cell_type": "code",
   "execution_count": 23,
   "id": "fd9d5590-12b8-49c8-9a22-2cb1fd22736f",
   "metadata": {},
   "outputs": [
    {
     "data": {
      "text/plain": [
       "24"
      ]
     },
     "execution_count": 23,
     "metadata": {},
     "output_type": "execute_result"
    }
   ],
   "source": [
    "# bytes\n",
    "sys.getsizeof(0)"
   ]
  },
  {
   "cell_type": "code",
   "execution_count": 24,
   "id": "fe321b8a-c2c5-4904-a506-ece838cc958a",
   "metadata": {},
   "outputs": [
    {
     "data": {
      "text/plain": [
       "28"
      ]
     },
     "execution_count": 24,
     "metadata": {},
     "output_type": "execute_result"
    }
   ],
   "source": [
    "sys.getsizeof(1)"
   ]
  },
  {
   "cell_type": "code",
   "execution_count": null,
   "id": "e3b8981a-033a-48cf-952d-2959c440b36c",
   "metadata": {},
   "outputs": [],
   "source": []
  }
 ],
 "metadata": {
  "kernelspec": {
   "display_name": "Python 3 (ipykernel)",
   "language": "python",
   "name": "python3"
  },
  "language_info": {
   "codemirror_mode": {
    "name": "ipython",
    "version": 3
   },
   "file_extension": ".py",
   "mimetype": "text/x-python",
   "name": "python",
   "nbconvert_exporter": "python",
   "pygments_lexer": "ipython3",
   "version": "3.10.4"
  }
 },
 "nbformat": 4,
 "nbformat_minor": 5
}
