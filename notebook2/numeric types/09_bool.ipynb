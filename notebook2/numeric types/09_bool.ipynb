{
 "cells": [
  {
   "cell_type": "markdown",
   "id": "3063cfea-8223-4f49-9016-52c8f9cee5f5",
   "metadata": {},
   "source": [
    "# bool is subclass of int"
   ]
  },
  {
   "cell_type": "code",
   "execution_count": 1,
   "id": "b76c3cc8-415e-49d8-8162-4ed747a17b47",
   "metadata": {},
   "outputs": [
    {
     "data": {
      "text/plain": [
       "True"
      ]
     },
     "execution_count": 1,
     "metadata": {},
     "output_type": "execute_result"
    }
   ],
   "source": [
    "issubclass(bool, int)"
   ]
  },
  {
   "cell_type": "markdown",
   "id": "10f85862-d826-479f-bcb3-95944f7fdeea",
   "metadata": {},
   "source": [
    "# bool is singleton"
   ]
  },
  {
   "cell_type": "code",
   "execution_count": 3,
   "id": "7d518c7c-76d5-4d2e-85cd-3f3c58925bcb",
   "metadata": {},
   "outputs": [
    {
     "name": "stdout",
     "output_type": "stream",
     "text": [
      "140734189579112\n",
      "140734189579112\n",
      "140734189579112\n"
     ]
    },
    {
     "data": {
      "text/plain": [
       "(None, None, None)"
      ]
     },
     "execution_count": 3,
     "metadata": {},
     "output_type": "execute_result"
    }
   ],
   "source": [
    "a = True\n",
    "b = True\n",
    "c = 3 < 4\n",
    "print(id(a)), print(id(b)), print(id(c))"
   ]
  },
  {
   "cell_type": "markdown",
   "id": "f1930656-64f9-4b87-aab6-17920c83f38f",
   "metadata": {},
   "source": [
    "# 0以外はTrueになる"
   ]
  },
  {
   "cell_type": "code",
   "execution_count": 4,
   "id": "7776f97d-aa3e-44f8-830c-bb6c1bf58fec",
   "metadata": {},
   "outputs": [
    {
     "data": {
      "text/plain": [
       "True"
      ]
     },
     "execution_count": 4,
     "metadata": {},
     "output_type": "execute_result"
    }
   ],
   "source": [
    "bool(10)"
   ]
  },
  {
   "cell_type": "code",
   "execution_count": 5,
   "id": "ed69c79e-564b-4f98-acb7-e62219a1c6c9",
   "metadata": {},
   "outputs": [
    {
     "data": {
      "text/plain": [
       "False"
      ]
     },
     "execution_count": 5,
     "metadata": {},
     "output_type": "execute_result"
    }
   ],
   "source": [
    "bool(0)"
   ]
  },
  {
   "cell_type": "code",
   "execution_count": 6,
   "id": "1f40a18b-bf46-42ce-b280-c61f88e22a07",
   "metadata": {},
   "outputs": [
    {
     "data": {
      "text/plain": [
       "True"
      ]
     },
     "execution_count": 6,
     "metadata": {},
     "output_type": "execute_result"
    }
   ],
   "source": [
    "bool(-1)"
   ]
  },
  {
   "cell_type": "markdown",
   "id": "6a4972c8-c575-4d90-8df0-86c2f64d98ab",
   "metadata": {},
   "source": [
    "# 空はFalseになる"
   ]
  },
  {
   "cell_type": "code",
   "execution_count": 7,
   "id": "acc3b14c-1b7e-4df3-81d1-231035a7ffc1",
   "metadata": {},
   "outputs": [
    {
     "data": {
      "text/plain": [
       "False"
      ]
     },
     "execution_count": 7,
     "metadata": {},
     "output_type": "execute_result"
    }
   ],
   "source": [
    "l = []\n",
    "bool(l)"
   ]
  },
  {
   "cell_type": "code",
   "execution_count": 9,
   "id": "e95e057e-f28e-4a91-88a3-f0b406260ccd",
   "metadata": {},
   "outputs": [
    {
     "data": {
      "text/plain": [
       "False"
      ]
     },
     "execution_count": 9,
     "metadata": {},
     "output_type": "execute_result"
    }
   ],
   "source": [
    "d = {}\n",
    "bool(d)"
   ]
  },
  {
   "cell_type": "code",
   "execution_count": 10,
   "id": "c0beb2f2-1234-406a-b84a-8b88bfae4ac0",
   "metadata": {},
   "outputs": [
    {
     "data": {
      "text/plain": [
       "False"
      ]
     },
     "execution_count": 10,
     "metadata": {},
     "output_type": "execute_result"
    }
   ],
   "source": [
    "s = \"\"\n",
    "bool(s)"
   ]
  },
  {
   "cell_type": "code",
   "execution_count": null,
   "id": "94223985-aea6-450d-968c-4c15c737bc9c",
   "metadata": {},
   "outputs": [],
   "source": []
  }
 ],
 "metadata": {
  "kernelspec": {
   "display_name": "Python 3 (ipykernel)",
   "language": "python",
   "name": "python3"
  },
  "language_info": {
   "codemirror_mode": {
    "name": "ipython",
    "version": 3
   },
   "file_extension": ".py",
   "mimetype": "text/x-python",
   "name": "python",
   "nbconvert_exporter": "python",
   "pygments_lexer": "ipython3",
   "version": "3.10.4"
  }
 },
 "nbformat": 4,
 "nbformat_minor": 5
}
