{
 "cells": [
  {
   "cell_type": "code",
   "execution_count": 1,
   "id": "dd3c3372-1e30-4ff5-8afd-a7158edae200",
   "metadata": {},
   "outputs": [],
   "source": [
    "from fractions import Fraction"
   ]
  },
  {
   "cell_type": "code",
   "execution_count": 14,
   "id": "4aca0160-a6fb-4943-bbc3-06d87be562e1",
   "metadata": {},
   "outputs": [
    {
     "name": "stdout",
     "output_type": "stream",
     "text": [
      "1/3\n"
     ]
    }
   ],
   "source": [
    "# 分子(numerator), 分母(denominator)\n",
    "a = Fraction(1, 3)\n",
    "print(a)"
   ]
  },
  {
   "cell_type": "code",
   "execution_count": 15,
   "id": "602eff1d-62f1-4744-870b-e2e7b4408b88",
   "metadata": {},
   "outputs": [
    {
     "data": {
      "text/plain": [
       "(1, 3)"
      ]
     },
     "execution_count": 15,
     "metadata": {},
     "output_type": "execute_result"
    }
   ],
   "source": [
    "a.numerator, a.denominator"
   ]
  },
  {
   "cell_type": "code",
   "execution_count": 16,
   "id": "56a1f94f-c68b-47da-8c34-3315d60e5d8e",
   "metadata": {},
   "outputs": [
    {
     "data": {
      "text/plain": [
       "0.3333333333333333"
      ]
     },
     "execution_count": 16,
     "metadata": {},
     "output_type": "execute_result"
    }
   ],
   "source": [
    "float(a)"
   ]
  },
  {
   "cell_type": "code",
   "execution_count": 12,
   "id": "9a833a93-14c9-4997-a85b-a404031ebe74",
   "metadata": {},
   "outputs": [
    {
     "name": "stdout",
     "output_type": "stream",
     "text": [
      "1/2\n"
     ]
    }
   ],
   "source": [
    "# 8/16 -> 1/2\n",
    "a = Fraction(8, 16)\n",
    "print(a)"
   ]
  },
  {
   "cell_type": "markdown",
   "id": "93ad50d0-ba2b-4445-a68f-c7fbd47da981",
   "metadata": {},
   "source": [
    "# floatでは表現しきれていない"
   ]
  },
  {
   "cell_type": "code",
   "execution_count": 17,
   "id": "ab1684b1-5d86-4514-9415-1ead7b8f272d",
   "metadata": {},
   "outputs": [],
   "source": [
    "b = 0.3"
   ]
  },
  {
   "cell_type": "code",
   "execution_count": 18,
   "id": "f49be9f6-11b0-473f-b723-e79aff0063e6",
   "metadata": {},
   "outputs": [
    {
     "data": {
      "text/plain": [
       "'0.300000000000000'"
      ]
     },
     "execution_count": 18,
     "metadata": {},
     "output_type": "execute_result"
    }
   ],
   "source": [
    "format(b, \"0.15f\")"
   ]
  },
  {
   "cell_type": "code",
   "execution_count": 19,
   "id": "bd93b10d-dee4-4e52-bfbf-501aaddb6d17",
   "metadata": {},
   "outputs": [
    {
     "data": {
      "text/plain": [
       "'0.2999999999999999888977698'"
      ]
     },
     "execution_count": 19,
     "metadata": {},
     "output_type": "execute_result"
    }
   ],
   "source": [
    "format(b, \"0.25f\")"
   ]
  },
  {
   "cell_type": "code",
   "execution_count": 20,
   "id": "cb20d3bd-aa26-4344-9e9d-66060e9f855b",
   "metadata": {},
   "outputs": [
    {
     "data": {
      "text/plain": [
       "Fraction(5404319552844595, 18014398509481984)"
      ]
     },
     "execution_count": 20,
     "metadata": {},
     "output_type": "execute_result"
    }
   ],
   "source": [
    "Fraction(b)"
   ]
  },
  {
   "cell_type": "code",
   "execution_count": null,
   "id": "8fbc33e1-78b1-4be3-ae82-f89cc86c06d0",
   "metadata": {},
   "outputs": [],
   "source": []
  }
 ],
 "metadata": {
  "kernelspec": {
   "display_name": "Python 3 (ipykernel)",
   "language": "python",
   "name": "python3"
  },
  "language_info": {
   "codemirror_mode": {
    "name": "ipython",
    "version": 3
   },
   "file_extension": ".py",
   "mimetype": "text/x-python",
   "name": "python",
   "nbconvert_exporter": "python",
   "pygments_lexer": "ipython3",
   "version": "3.10.4"
  }
 },
 "nbformat": 4,
 "nbformat_minor": 5
}
