{
 "cells": [
  {
   "cell_type": "code",
   "execution_count": 1,
   "id": "b99e7a72-347d-4764-950a-6e6bf72c2af3",
   "metadata": {},
   "outputs": [],
   "source": [
    "import decimal\n",
    "from decimal import Decimal"
   ]
  },
  {
   "cell_type": "markdown",
   "id": "32b32233-e1e1-4a64-b1f2-659fde54d709",
   "metadata": {},
   "source": [
    "# glocal context"
   ]
  },
  {
   "cell_type": "code",
   "execution_count": 2,
   "id": "10674f9e-210e-4f56-828f-75ffd7da5cc2",
   "metadata": {},
   "outputs": [
    {
     "data": {
      "text/plain": [
       "Context(prec=28, rounding=ROUND_HALF_EVEN, Emin=-999999, Emax=999999, capitals=1, clamp=0, flags=[], traps=[InvalidOperation, DivisionByZero, Overflow])"
      ]
     },
     "execution_count": 2,
     "metadata": {},
     "output_type": "execute_result"
    }
   ],
   "source": [
    "decimal.getcontext()"
   ]
  },
  {
   "cell_type": "code",
   "execution_count": 3,
   "id": "8f05c7a6-f1a2-4a3d-982d-0b8790f88dc5",
   "metadata": {},
   "outputs": [
    {
     "data": {
      "text/plain": [
       "decimal.Context"
      ]
     },
     "execution_count": 3,
     "metadata": {},
     "output_type": "execute_result"
    }
   ],
   "source": [
    "type(decimal.getcontext())"
   ]
  },
  {
   "cell_type": "markdown",
   "id": "d9d4a56d-656f-4b4b-93e8-f5d1c373fcb7",
   "metadata": {},
   "source": [
    "# local context"
   ]
  },
  {
   "cell_type": "code",
   "execution_count": 6,
   "id": "6756bdb5-8821-4df8-8268-e01cce606764",
   "metadata": {},
   "outputs": [
    {
     "data": {
      "text/plain": [
       "decimal.ContextManager"
      ]
     },
     "execution_count": 6,
     "metadata": {},
     "output_type": "execute_result"
    }
   ],
   "source": [
    "type(decimal.localcontext())"
   ]
  },
  {
   "cell_type": "code",
   "execution_count": 11,
   "id": "2dbbab17-b0ee-49eb-a919-24eb0ff14bcd",
   "metadata": {},
   "outputs": [
    {
     "name": "stdout",
     "output_type": "stream",
     "text": [
      "Context(prec=28, rounding=ROUND_HALF_UP, Emin=-999999, Emax=999999, capitals=1, clamp=0, flags=[], traps=[InvalidOperation, DivisionByZero, Overflow])\n",
      "2050385420976 2050385420976\n"
     ]
    }
   ],
   "source": [
    "with decimal.localcontext() as ctx:\n",
    "    ctx.rounding = decimal.ROUND_HALF_UP\n",
    "    print(ctx)\n",
    "    \n",
    "    # decimal.getcontext()は今のcontextをgetするので、localcontextがgetされる\n",
    "    print(id(decimal.getcontext()), id(ctx))"
   ]
  },
  {
   "cell_type": "markdown",
   "id": "bd002888-d0ad-40a4-a220-9e1036721e81",
   "metadata": {},
   "source": [
    "# rounding"
   ]
  },
  {
   "cell_type": "code",
   "execution_count": 14,
   "id": "1296d459-88dd-48c9-9589-038deb21e764",
   "metadata": {},
   "outputs": [
    {
     "name": "stdout",
     "output_type": "stream",
     "text": [
      "1.3\n",
      "1.4\n"
     ]
    }
   ],
   "source": [
    "x = Decimal(1.25)\n",
    "y = Decimal(1.35)\n",
    "with decimal.localcontext() as ctx:\n",
    "    ctx.rounding = decimal.ROUND_HALF_UP\n",
    "    print(round(x, 1))\n",
    "    print(round(y, 1))"
   ]
  },
  {
   "cell_type": "code",
   "execution_count": 16,
   "id": "4118d278-05c6-4a6b-b5ab-7d543594ac08",
   "metadata": {},
   "outputs": [
    {
     "name": "stdout",
     "output_type": "stream",
     "text": [
      "1.2\n",
      "1.4\n"
     ]
    }
   ],
   "source": [
    "# localcontextの外\n",
    "print(round(x, 1))\n",
    "print(round(y, 1))"
   ]
  },
  {
   "cell_type": "markdown",
   "id": "014ff6ec-4e34-4015-ac03-21181930dad8",
   "metadata": {},
   "source": [
    "# 0.1問題"
   ]
  },
  {
   "cell_type": "code",
   "execution_count": 17,
   "id": "05ce7383-0ba4-430c-bb29-70f3f6e704ef",
   "metadata": {},
   "outputs": [
    {
     "data": {
      "text/plain": [
       "'0.1000000000000000055511151'"
      ]
     },
     "execution_count": 17,
     "metadata": {},
     "output_type": "execute_result"
    }
   ],
   "source": [
    "# floatを渡すとダメ\n",
    "a = Decimal(0.1)\n",
    "format(a, \"0.25f\")"
   ]
  },
  {
   "cell_type": "code",
   "execution_count": 18,
   "id": "62555c5e-fd0e-409f-a02e-4ee3f2f3c097",
   "metadata": {},
   "outputs": [
    {
     "data": {
      "text/plain": [
       "'0.1000000000000000000000000'"
      ]
     },
     "execution_count": 18,
     "metadata": {},
     "output_type": "execute_result"
    }
   ],
   "source": [
    "# strにする\n",
    "b = Decimal(\"0.1\")\n",
    "format(b, \"0.25f\")"
   ]
  },
  {
   "cell_type": "code",
   "execution_count": 19,
   "id": "74b937f9-ed0e-4565-a32f-a73bdc902d43",
   "metadata": {},
   "outputs": [
    {
     "data": {
      "text/plain": [
       "'0.1000000000000000000000000'"
      ]
     },
     "execution_count": 19,
     "metadata": {},
     "output_type": "execute_result"
    }
   ],
   "source": [
    "c = 0.1\n",
    "c = Decimal(str(c))\n",
    "format(c, \"0.25f\")"
   ]
  },
  {
   "cell_type": "code",
   "execution_count": null,
   "id": "36b9b0ac-bc42-423a-9066-f2e28bb22a4b",
   "metadata": {},
   "outputs": [],
   "source": []
  }
 ],
 "metadata": {
  "kernelspec": {
   "display_name": "Python 3 (ipykernel)",
   "language": "python",
   "name": "python3"
  },
  "language_info": {
   "codemirror_mode": {
    "name": "ipython",
    "version": 3
   },
   "file_extension": ".py",
   "mimetype": "text/x-python",
   "name": "python",
   "nbconvert_exporter": "python",
   "pygments_lexer": "ipython3",
   "version": "3.10.4"
  }
 },
 "nbformat": 4,
 "nbformat_minor": 5
}
