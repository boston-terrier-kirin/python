{
 "cells": [
  {
   "cell_type": "code",
   "execution_count": 1,
   "id": "df06f16e-c028-4f1c-b63a-8fe4ec413ae4",
   "metadata": {},
   "outputs": [],
   "source": [
    "import decimal\n",
    "from decimal import Decimal"
   ]
  },
  {
   "cell_type": "markdown",
   "id": "6940f5e1-cc96-49ab-bff3-972780110eff",
   "metadata": {},
   "source": [
    "# // and % *negativeの場合、intとDecimalで結果が違う"
   ]
  },
  {
   "cell_type": "markdown",
   "id": "57bffec6-736e-41a2-9bfa-4151b5b46530",
   "metadata": {},
   "source": [
    "#### int(positive)の場合"
   ]
  },
  {
   "cell_type": "code",
   "execution_count": 9,
   "id": "8a6e8d61-b3f0-4e59-a30b-9218006f8879",
   "metadata": {},
   "outputs": [
    {
     "name": "stdout",
     "output_type": "stream",
     "text": [
      "3\n",
      "1\n"
     ]
    },
    {
     "data": {
      "text/plain": [
       "(None, None)"
      ]
     },
     "execution_count": 9,
     "metadata": {},
     "output_type": "execute_result"
    }
   ],
   "source": [
    "x = 10\n",
    "y = 3\n",
    "print(x//y), print(x%y)"
   ]
  },
  {
   "cell_type": "markdown",
   "id": "b1f1497b-dfb4-40ee-b3dd-f14f01875241",
   "metadata": {},
   "source": [
    "#### Decimal(positive)の場合"
   ]
  },
  {
   "cell_type": "code",
   "execution_count": 10,
   "id": "febca8b9-71af-4dd8-8b24-8daf411a3251",
   "metadata": {},
   "outputs": [
    {
     "name": "stdout",
     "output_type": "stream",
     "text": [
      "3\n",
      "1\n"
     ]
    },
    {
     "data": {
      "text/plain": [
       "(None, None)"
      ]
     },
     "execution_count": 10,
     "metadata": {},
     "output_type": "execute_result"
    }
   ],
   "source": [
    "x = Decimal(10)\n",
    "y = Decimal(3)\n",
    "print(x//y), print(x%y)"
   ]
  },
  {
   "cell_type": "markdown",
   "id": "0af825f4-99cd-4357-8bb5-21f1ace5ce59",
   "metadata": {},
   "source": [
    "#### int(negative)の場合"
   ]
  },
  {
   "cell_type": "code",
   "execution_count": 11,
   "id": "4613c808-aef3-40fb-bef2-ed79f4c5e8f2",
   "metadata": {},
   "outputs": [
    {
     "name": "stdout",
     "output_type": "stream",
     "text": [
      "-4\n",
      "2\n"
     ]
    },
    {
     "data": {
      "text/plain": [
       "(None, None)"
      ]
     },
     "execution_count": 11,
     "metadata": {},
     "output_type": "execute_result"
    }
   ],
   "source": [
    "x = -10\n",
    "y = 3\n",
    "print(x//y), print(x%y)"
   ]
  },
  {
   "cell_type": "markdown",
   "id": "22e5b282-4e68-4286-8098-6363374ac8a7",
   "metadata": {},
   "source": [
    "#### Decimal(negative)の場合 *negativeの場合、intと結果が違う"
   ]
  },
  {
   "cell_type": "code",
   "execution_count": 13,
   "id": "d95e6900-6335-474d-945e-1895d5f080b7",
   "metadata": {},
   "outputs": [
    {
     "name": "stdout",
     "output_type": "stream",
     "text": [
      "-3\n",
      "-1\n"
     ]
    },
    {
     "data": {
      "text/plain": [
       "(None, None)"
      ]
     },
     "execution_count": 13,
     "metadata": {},
     "output_type": "execute_result"
    }
   ],
   "source": [
    "x = Decimal(-10)\n",
    "y = Decimal(3)\n",
    "print(x//y), print(x%y)"
   ]
  },
  {
   "cell_type": "markdown",
   "id": "41e1dd7f-c826-41a3-a308-157b63527f3c",
   "metadata": {},
   "source": [
    "# Other Math Operations"
   ]
  },
  {
   "cell_type": "code",
   "execution_count": null,
   "id": "c286217c-8bd4-46b0-a831-e9c8c40fea6a",
   "metadata": {},
   "outputs": [],
   "source": []
  }
 ],
 "metadata": {
  "kernelspec": {
   "display_name": "Python 3 (ipykernel)",
   "language": "python",
   "name": "python3"
  },
  "language_info": {
   "codemirror_mode": {
    "name": "ipython",
    "version": 3
   },
   "file_extension": ".py",
   "mimetype": "text/x-python",
   "name": "python",
   "nbconvert_exporter": "python",
   "pygments_lexer": "ipython3",
   "version": "3.10.4"
  }
 },
 "nbformat": 4,
 "nbformat_minor": 5
}
