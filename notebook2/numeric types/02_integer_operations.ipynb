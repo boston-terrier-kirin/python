{
 "cells": [
  {
   "cell_type": "markdown",
   "id": "0c0d604b-1b44-408e-9457-3b12a1e466b8",
   "metadata": {},
   "source": [
    "# / は常にfloatが返ってくる"
   ]
  },
  {
   "cell_type": "code",
   "execution_count": 1,
   "id": "e6a58647-616f-42b2-b83d-6ebce0737252",
   "metadata": {},
   "outputs": [
    {
     "data": {
      "text/plain": [
       "2.0"
      ]
     },
     "execution_count": 1,
     "metadata": {},
     "output_type": "execute_result"
    }
   ],
   "source": [
    "4 / 2"
   ]
  },
  {
   "cell_type": "code",
   "execution_count": 2,
   "id": "202efaa9-d790-4bf8-870d-d91987db3c76",
   "metadata": {},
   "outputs": [
    {
     "data": {
      "text/plain": [
       "0.3333333333333333"
      ]
     },
     "execution_count": 2,
     "metadata": {},
     "output_type": "execute_result"
    }
   ],
   "source": [
    "1 / 3"
   ]
  },
  {
   "cell_type": "markdown",
   "id": "1d47423d-2032-45a9-b457-eb59d99c033d",
   "metadata": {},
   "source": [
    "# //, %\n",
    "- 155 / 4 = 38とあまり4"
   ]
  },
  {
   "cell_type": "code",
   "execution_count": null,
   "id": "d16e7c20-af2d-408f-956d-b948ce5c3512",
   "metadata": {},
   "outputs": [],
   "source": [
    "import math"
   ]
  },
  {
   "cell_type": "code",
   "execution_count": 6,
   "id": "f4a66a71-2c77-4cd2-9d30-ed0f71644de7",
   "metadata": {},
   "outputs": [
    {
     "data": {
      "text/plain": [
       "38"
      ]
     },
     "execution_count": 6,
     "metadata": {},
     "output_type": "execute_result"
    }
   ],
   "source": [
    "# // is called floor division\n",
    "155 // 4"
   ]
  },
  {
   "cell_type": "code",
   "execution_count": 25,
   "id": "fa37034f-9774-460f-bcd2-6b614a771a17",
   "metadata": {},
   "outputs": [
    {
     "data": {
      "text/plain": [
       "38"
      ]
     },
     "execution_count": 25,
     "metadata": {},
     "output_type": "execute_result"
    }
   ],
   "source": [
    "# math.floorでも結果は同じ\n",
    "math.floor(155/4)"
   ]
  },
  {
   "cell_type": "code",
   "execution_count": 26,
   "id": "d52482fe-f8eb-4530-9549-2441f37da4d3",
   "metadata": {},
   "outputs": [
    {
     "data": {
      "text/plain": [
       "3"
      ]
     },
     "execution_count": 26,
     "metadata": {},
     "output_type": "execute_result"
    }
   ],
   "source": [
    "# % is called modulo operator\n",
    "155 % 4"
   ]
  },
  {
   "cell_type": "code",
   "execution_count": 27,
   "id": "f677a355-ec2b-4b90-9a81-349fdcad2f41",
   "metadata": {},
   "outputs": [
    {
     "data": {
      "text/plain": [
       "True"
      ]
     },
     "execution_count": 27,
     "metadata": {},
     "output_type": "execute_result"
    }
   ],
   "source": [
    "155 == 4 * (155 // 4) + (155 % 4)"
   ]
  },
  {
   "cell_type": "markdown",
   "id": "f801a25e-ce8a-4bcc-951b-ef958f07da63",
   "metadata": {},
   "source": [
    "# floorとは、largest integer <= a"
   ]
  },
  {
   "cell_type": "code",
   "execution_count": 28,
   "id": "07abd011-f9a4-4e2b-afaa-8fa2be929322",
   "metadata": {},
   "outputs": [
    {
     "data": {
      "text/plain": [
       "3"
      ]
     },
     "execution_count": 28,
     "metadata": {},
     "output_type": "execute_result"
    }
   ],
   "source": [
    "math.floor(3.14)"
   ]
  },
  {
   "cell_type": "code",
   "execution_count": 29,
   "id": "9ab50133-b537-4f62-9ec4-c2c38e6e5f34",
   "metadata": {},
   "outputs": [
    {
     "data": {
      "text/plain": [
       "1"
      ]
     },
     "execution_count": 29,
     "metadata": {},
     "output_type": "execute_result"
    }
   ],
   "source": [
    "math.floor(1.99)"
   ]
  },
  {
   "cell_type": "code",
   "execution_count": 30,
   "id": "e12505b1-6060-45b4-bf37-88f5dbdba93a",
   "metadata": {},
   "outputs": [
    {
     "data": {
      "text/plain": [
       "-4"
      ]
     },
     "execution_count": 30,
     "metadata": {},
     "output_type": "execute_result"
    }
   ],
   "source": [
    "# largest integer <= a\n",
    "# -4, -3.1, -3\n",
    "math.floor(-3.1)"
   ]
  },
  {
   "cell_type": "markdown",
   "id": "a2123431-e3cd-4788-a18f-831d5a3125a3",
   "metadata": {},
   "source": [
    "# マイナスの場合、//, % は要注意"
   ]
  },
  {
   "cell_type": "code",
   "execution_count": 22,
   "id": "e86203ac-fb5b-4b45-9425-2fc3cf49c2c6",
   "metadata": {},
   "outputs": [
    {
     "data": {
      "text/plain": [
       "-39"
      ]
     },
     "execution_count": 22,
     "metadata": {},
     "output_type": "execute_result"
    }
   ],
   "source": [
    "# floorなので、-39になってしまう\n",
    "-155 // 4"
   ]
  },
  {
   "cell_type": "code",
   "execution_count": 34,
   "id": "e64677b7-2285-44d4-9564-6f6ca6636863",
   "metadata": {},
   "outputs": [
    {
     "data": {
      "text/plain": [
       "-39"
      ]
     },
     "execution_count": 34,
     "metadata": {},
     "output_type": "execute_result"
    }
   ],
   "source": [
    "# math.floorでも結果は同じ\n",
    "math.floor(-155/4)"
   ]
  },
  {
   "cell_type": "code",
   "execution_count": 23,
   "id": "f7a9cfd9-6699-4e48-a253-ecda6a9b6ce2",
   "metadata": {},
   "outputs": [
    {
     "data": {
      "text/plain": [
       "1"
      ]
     },
     "execution_count": 23,
     "metadata": {},
     "output_type": "execute_result"
    }
   ],
   "source": [
    "# 1になってしまう\n",
    "-155 % 4"
   ]
  },
  {
   "cell_type": "code",
   "execution_count": 16,
   "id": "bc523356-48c5-44f7-8bcc-e990dc339215",
   "metadata": {},
   "outputs": [
    {
     "data": {
      "text/plain": [
       "True"
      ]
     },
     "execution_count": 16,
     "metadata": {},
     "output_type": "execute_result"
    }
   ],
   "source": [
    "# この数式は成立する\n",
    "-155 == 4 * (-155 // 4) + (-155 % 4)"
   ]
  },
  {
   "cell_type": "markdown",
   "id": "b1effda4-23fd-4043-bef7-ad519d44592c",
   "metadata": {},
   "source": [
    "# マイナスを考慮するとfloorとtruncは違う"
   ]
  },
  {
   "cell_type": "code",
   "execution_count": 35,
   "id": "726e78f0-9b2b-4328-9dd6-4502f8dd00ce",
   "metadata": {},
   "outputs": [
    {
     "data": {
      "text/plain": [
       "-39"
      ]
     },
     "execution_count": 35,
     "metadata": {},
     "output_type": "execute_result"
    }
   ],
   "source": [
    "math.floor(-155/4)"
   ]
  },
  {
   "cell_type": "code",
   "execution_count": 36,
   "id": "bbf6b8e0-98e4-453e-940a-290096b4cf55",
   "metadata": {},
   "outputs": [
    {
     "data": {
      "text/plain": [
       "-38"
      ]
     },
     "execution_count": 36,
     "metadata": {},
     "output_type": "execute_result"
    }
   ],
   "source": [
    "math.trunc(-155/4)"
   ]
  },
  {
   "cell_type": "code",
   "execution_count": null,
   "id": "fabcc2cb-8fd1-4879-b145-41c5c5a0db57",
   "metadata": {},
   "outputs": [],
   "source": []
  }
 ],
 "metadata": {
  "kernelspec": {
   "display_name": "Python 3 (ipykernel)",
   "language": "python",
   "name": "python3"
  },
  "language_info": {
   "codemirror_mode": {
    "name": "ipython",
    "version": 3
   },
   "file_extension": ".py",
   "mimetype": "text/x-python",
   "name": "python",
   "nbconvert_exporter": "python",
   "pygments_lexer": "ipython3",
   "version": "3.10.4"
  }
 },
 "nbformat": 4,
 "nbformat_minor": 5
}
