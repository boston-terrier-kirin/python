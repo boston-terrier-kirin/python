{
 "cells": [
  {
   "cell_type": "markdown",
   "id": "4f9a1722-e2ed-47b9-b800-46dabc3b51ee",
   "metadata": {},
   "source": [
    "# trunc"
   ]
  },
  {
   "cell_type": "code",
   "execution_count": 3,
   "id": "b5227725-ac67-4b6d-9186-148fc7377c64",
   "metadata": {},
   "outputs": [],
   "source": [
    "from math import trunc"
   ]
  },
  {
   "cell_type": "code",
   "execution_count": 4,
   "id": "a9c99d37-44c0-49c7-a614-5ef283d448bf",
   "metadata": {},
   "outputs": [
    {
     "data": {
      "text/plain": [
       "(10, 10, 10)"
      ]
     },
     "execution_count": 4,
     "metadata": {},
     "output_type": "execute_result"
    }
   ],
   "source": [
    "trunc(10.1), trunc(10.5), trunc(10.9)"
   ]
  },
  {
   "cell_type": "code",
   "execution_count": 6,
   "id": "91d02be4-8015-4313-82ec-e9af0817b847",
   "metadata": {},
   "outputs": [
    {
     "data": {
      "text/plain": [
       "10"
      ]
     },
     "execution_count": 6,
     "metadata": {},
     "output_type": "execute_result"
    }
   ],
   "source": [
    "# intはtruncをやっている\n",
    "int(10.9)"
   ]
  },
  {
   "cell_type": "markdown",
   "id": "6db4b64b-a647-41da-b46a-59f0b33d9efa",
   "metadata": {},
   "source": [
    "# floor"
   ]
  },
  {
   "cell_type": "code",
   "execution_count": 10,
   "id": "f39a2354-022d-439b-af10-2eacf889d427",
   "metadata": {},
   "outputs": [],
   "source": [
    "from math import floor, trunc"
   ]
  },
  {
   "cell_type": "code",
   "execution_count": 11,
   "id": "9749b109-b685-40c5-b378-1312b4085ec0",
   "metadata": {},
   "outputs": [
    {
     "data": {
      "text/plain": [
       "(10, 10)"
      ]
     },
     "execution_count": 11,
     "metadata": {},
     "output_type": "execute_result"
    }
   ],
   "source": [
    "floor(10.4), floor(10.9)"
   ]
  },
  {
   "cell_type": "code",
   "execution_count": 12,
   "id": "143cceac-ddd8-4f33-9463-e40283348b60",
   "metadata": {},
   "outputs": [
    {
     "data": {
      "text/plain": [
       "(-11, -11)"
      ]
     },
     "execution_count": 12,
     "metadata": {},
     "output_type": "execute_result"
    }
   ],
   "source": [
    "floor(-10.4), floor(-10.9)"
   ]
  },
  {
   "cell_type": "code",
   "execution_count": 13,
   "id": "6f576feb-e42c-4620-8348-7cb6d0d4bb35",
   "metadata": {},
   "outputs": [
    {
     "data": {
      "text/plain": [
       "(-10, -10)"
      ]
     },
     "execution_count": 13,
     "metadata": {},
     "output_type": "execute_result"
    }
   ],
   "source": [
    "trunc(-10.4), trunc(-10.9)"
   ]
  },
  {
   "cell_type": "markdown",
   "id": "9c5e99cb-04a9-403b-ace9-5a32ce09ebe7",
   "metadata": {},
   "source": [
    "# ceil"
   ]
  },
  {
   "cell_type": "code",
   "execution_count": 14,
   "id": "f3ad7c2f-5d0a-482d-9995-fcdd7d3f7f49",
   "metadata": {},
   "outputs": [],
   "source": [
    "from math import ceil, floor, trunc"
   ]
  },
  {
   "cell_type": "code",
   "execution_count": 15,
   "id": "f5715ab6-68fe-4b84-9368-04401ef7e9dd",
   "metadata": {},
   "outputs": [
    {
     "data": {
      "text/plain": [
       "(11, 11)"
      ]
     },
     "execution_count": 15,
     "metadata": {},
     "output_type": "execute_result"
    }
   ],
   "source": [
    "ceil(10.4), ceil(10.9)"
   ]
  },
  {
   "cell_type": "code",
   "execution_count": 16,
   "id": "aee125d2-76b0-40a3-9fc3-3373ce184fa3",
   "metadata": {},
   "outputs": [
    {
     "data": {
      "text/plain": [
       "(-10, -10)"
      ]
     },
     "execution_count": 16,
     "metadata": {},
     "output_type": "execute_result"
    }
   ],
   "source": [
    "ceil(-10.4), ceil(-10.9)"
   ]
  },
  {
   "cell_type": "markdown",
   "id": "175a51d0-da25-4f3f-846f-f12a7679a33c",
   "metadata": {},
   "source": [
    "# round"
   ]
  },
  {
   "cell_type": "code",
   "execution_count": 19,
   "id": "3a003056-0166-4df0-b97f-f2a73968b46a",
   "metadata": {},
   "outputs": [
    {
     "data": {
      "text/plain": [
       "(0, 2, 2)"
      ]
     },
     "execution_count": 19,
     "metadata": {},
     "output_type": "execute_result"
    }
   ],
   "source": [
    "# banker's rounding\n",
    "# 1.5->2, 2.5->2\n",
    "# 偶数の方に丸められる\n",
    "round(0.5), round(1.5), round(2.5)"
   ]
  },
  {
   "cell_type": "code",
   "execution_count": 20,
   "id": "d57486d5-3038-4793-9aae-b6629eae8771",
   "metadata": {},
   "outputs": [
    {
     "data": {
      "text/plain": [
       "1.5"
      ]
     },
     "execution_count": 20,
     "metadata": {},
     "output_type": "execute_result"
    }
   ],
   "source": [
    "(0.5 + 1.5 + 2.5) / 3"
   ]
  },
  {
   "cell_type": "code",
   "execution_count": 22,
   "id": "ddb6cb54-c971-414b-a580-0ccc310b94bc",
   "metadata": {},
   "outputs": [
    {
     "data": {
      "text/plain": [
       "2.0"
      ]
     },
     "execution_count": 22,
     "metadata": {},
     "output_type": "execute_result"
    }
   ],
   "source": [
    "# roundupだと、平均から遠くなるので、この方式が採用されている\n",
    "(1 + 2 + 3 ) / 3"
   ]
  },
  {
   "cell_type": "code",
   "execution_count": 28,
   "id": "ae3a9e11-28ac-4ee2-a2b4-14d337df749d",
   "metadata": {},
   "outputs": [],
   "source": [
    "from math import copysign\n",
    "def _round(x):\n",
    "    return int(x + 0.5 * copysign(1, x))"
   ]
  },
  {
   "cell_type": "code",
   "execution_count": 33,
   "id": "0b5dfadb-ca14-4c94-a028-2376d38f8b69",
   "metadata": {},
   "outputs": [
    {
     "data": {
      "text/plain": [
       "(2, 2)"
      ]
     },
     "execution_count": 33,
     "metadata": {},
     "output_type": "execute_result"
    }
   ],
   "source": [
    "round(1.5), _round(1.5)"
   ]
  },
  {
   "cell_type": "code",
   "execution_count": 34,
   "id": "769afb69-011d-4304-a1de-aabf8261fcf1",
   "metadata": {},
   "outputs": [
    {
     "data": {
      "text/plain": [
       "(2, 3)"
      ]
     },
     "execution_count": 34,
     "metadata": {},
     "output_type": "execute_result"
    }
   ],
   "source": [
    "round(2.5), _round(2.5)"
   ]
  },
  {
   "cell_type": "code",
   "execution_count": 35,
   "id": "203762a0-ddfb-4142-bb4d-ffab7cbe1c2b",
   "metadata": {},
   "outputs": [
    {
     "data": {
      "text/plain": [
       "(-2, -2)"
      ]
     },
     "execution_count": 35,
     "metadata": {},
     "output_type": "execute_result"
    }
   ],
   "source": [
    "round(-1.5), _round(-1.5)"
   ]
  },
  {
   "cell_type": "code",
   "execution_count": 36,
   "id": "5bb78400-b347-45cf-8317-abc462dc8696",
   "metadata": {},
   "outputs": [
    {
     "data": {
      "text/plain": [
       "(-2, -3)"
      ]
     },
     "execution_count": 36,
     "metadata": {},
     "output_type": "execute_result"
    }
   ],
   "source": [
    "round(-2.5), _round(-2.5)"
   ]
  },
  {
   "cell_type": "code",
   "execution_count": null,
   "id": "6fe9218f-52d3-4fd1-861f-0d8e85f00cfe",
   "metadata": {},
   "outputs": [],
   "source": []
  }
 ],
 "metadata": {
  "kernelspec": {
   "display_name": "Python 3 (ipykernel)",
   "language": "python",
   "name": "python3"
  },
  "language_info": {
   "codemirror_mode": {
    "name": "ipython",
    "version": 3
   },
   "file_extension": ".py",
   "mimetype": "text/x-python",
   "name": "python",
   "nbconvert_exporter": "python",
   "pygments_lexer": "ipython3",
   "version": "3.10.4"
  }
 },
 "nbformat": 4,
 "nbformat_minor": 5
}
