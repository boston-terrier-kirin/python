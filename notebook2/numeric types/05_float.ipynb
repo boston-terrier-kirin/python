{
 "cells": [
  {
   "cell_type": "markdown",
   "id": "f1eb14fa-a68b-4adf-a3ff-d1443b3f4c25",
   "metadata": {},
   "source": [
    "# floatでは小数を表現しきれない"
   ]
  },
  {
   "cell_type": "code",
   "execution_count": 10,
   "id": "cfe7f44a-ab03-4af4-b379-5170f5032f46",
   "metadata": {},
   "outputs": [],
   "source": [
    "x = 0.1 + 0.1 + 0.1\n",
    "y = 0.3"
   ]
  },
  {
   "cell_type": "code",
   "execution_count": 9,
   "id": "34cf7af2-7675-47af-baad-bd548b4dca82",
   "metadata": {},
   "outputs": [
    {
     "data": {
      "text/plain": [
       "False"
      ]
     },
     "execution_count": 9,
     "metadata": {},
     "output_type": "execute_result"
    }
   ],
   "source": [
    "x == y"
   ]
  },
  {
   "cell_type": "code",
   "execution_count": 3,
   "id": "8777d41a-0660-4ca2-96b3-a954fb178aa4",
   "metadata": {},
   "outputs": [
    {
     "data": {
      "text/plain": [
       "'0.3000000000000000444089210'"
      ]
     },
     "execution_count": 3,
     "metadata": {},
     "output_type": "execute_result"
    }
   ],
   "source": [
    "format(x, \"0.25f\")"
   ]
  },
  {
   "cell_type": "code",
   "execution_count": 4,
   "id": "47dc55e3-84dd-4eca-b99f-3a83e54f30b2",
   "metadata": {},
   "outputs": [
    {
     "data": {
      "text/plain": [
       "'0.2999999999999999888977698'"
      ]
     },
     "execution_count": 4,
     "metadata": {},
     "output_type": "execute_result"
    }
   ],
   "source": [
    "format(y, \"0.25f\")"
   ]
  },
  {
   "cell_type": "markdown",
   "id": "c24894a1-ea1b-48af-b3ec-ff6877b36bfa",
   "metadata": {},
   "source": [
    "# floatの比較は、math.iscloseを使う"
   ]
  },
  {
   "cell_type": "code",
   "execution_count": 5,
   "id": "7a5cbe27-2f31-4d9c-9ccb-f15e2e4c7006",
   "metadata": {},
   "outputs": [],
   "source": [
    "import math"
   ]
  },
  {
   "cell_type": "code",
   "execution_count": 7,
   "id": "0acaf563-7624-436e-adfd-de0c06327898",
   "metadata": {},
   "outputs": [
    {
     "data": {
      "text/plain": [
       "True"
      ]
     },
     "execution_count": 7,
     "metadata": {},
     "output_type": "execute_result"
    }
   ],
   "source": [
    "# isclose(a, b, *, rel_tol=1e-09, abs_tol=0.0)\n",
    "math.isclose(x, y)"
   ]
  },
  {
   "cell_type": "code",
   "execution_count": null,
   "id": "d20385a4-01e8-48d7-abdf-9352f67698e4",
   "metadata": {},
   "outputs": [],
   "source": []
  }
 ],
 "metadata": {
  "kernelspec": {
   "display_name": "Python 3 (ipykernel)",
   "language": "python",
   "name": "python3"
  },
  "language_info": {
   "codemirror_mode": {
    "name": "ipython",
    "version": 3
   },
   "file_extension": ".py",
   "mimetype": "text/x-python",
   "name": "python",
   "nbconvert_exporter": "python",
   "pygments_lexer": "ipython3",
   "version": "3.10.4"
  }
 },
 "nbformat": 4,
 "nbformat_minor": 5
}
