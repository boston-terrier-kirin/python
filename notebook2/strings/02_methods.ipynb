{
 "cells": [
  {
   "cell_type": "markdown",
   "id": "3ca15385-9b32-47e8-850e-eaead2eca70c",
   "metadata": {},
   "source": [
    "# string-methods\n",
    "- https://docs.python.org/ja/3/library/stdtypes.html#string-methods"
   ]
  },
  {
   "cell_type": "markdown",
   "id": "adef47f1-3939-41ef-b3ee-a33da89c621b",
   "metadata": {},
   "source": [
    "# upper/lower/title"
   ]
  },
  {
   "cell_type": "code",
   "execution_count": 2,
   "id": "92b20991-1763-455d-b841-0eb6fde4def8",
   "metadata": {},
   "outputs": [],
   "source": [
    "message = \"The definitive guide to Python\""
   ]
  },
  {
   "cell_type": "code",
   "execution_count": 3,
   "id": "68ab7839-082a-4e89-89e8-469c6d47ea2d",
   "metadata": {},
   "outputs": [
    {
     "data": {
      "text/plain": [
       "'THE DEFINITIVE GUIDE TO PYTHON'"
      ]
     },
     "execution_count": 3,
     "metadata": {},
     "output_type": "execute_result"
    }
   ],
   "source": [
    "message.upper()"
   ]
  },
  {
   "cell_type": "code",
   "execution_count": 4,
   "id": "38f80c03-5c4f-4a26-96ac-d19880e26e02",
   "metadata": {},
   "outputs": [
    {
     "data": {
      "text/plain": [
       "'the definitive guide to python'"
      ]
     },
     "execution_count": 4,
     "metadata": {},
     "output_type": "execute_result"
    }
   ],
   "source": [
    "message.lower()"
   ]
  },
  {
   "cell_type": "code",
   "execution_count": 5,
   "id": "99dd0de5-c631-48c0-aa1a-279beb9114ae",
   "metadata": {},
   "outputs": [
    {
     "data": {
      "text/plain": [
       "'The Definitive Guide To Python'"
      ]
     },
     "execution_count": 5,
     "metadata": {},
     "output_type": "execute_result"
    }
   ],
   "source": [
    "message.title()"
   ]
  },
  {
   "cell_type": "markdown",
   "id": "d8f9da56-be65-4244-b5ed-579df59b9a7e",
   "metadata": {},
   "source": [
    "# casefold"
   ]
  },
  {
   "cell_type": "code",
   "execution_count": 8,
   "id": "20a8253b-4377-401f-99f3-2dccc09e1de2",
   "metadata": {},
   "outputs": [
    {
     "data": {
      "text/plain": [
       "('straße', 'STRASSE')"
      ]
     },
     "execution_count": 8,
     "metadata": {},
     "output_type": "execute_result"
    }
   ],
   "source": [
    "l = \"straße\"\n",
    "u = l.upper()\n",
    "l, u"
   ]
  },
  {
   "cell_type": "code",
   "execution_count": 13,
   "id": "f9cbcaec-6494-423a-a0d0-e880b65dc6b5",
   "metadata": {},
   "outputs": [
    {
     "data": {
      "text/plain": [
       "False"
      ]
     },
     "execution_count": 13,
     "metadata": {},
     "output_type": "execute_result"
    }
   ],
   "source": [
    "# False\n",
    "l.lower() == u.lower()"
   ]
  },
  {
   "cell_type": "code",
   "execution_count": 14,
   "id": "5ba3ae38-133a-49c3-bf34-c9267efb29a3",
   "metadata": {},
   "outputs": [
    {
     "data": {
      "text/plain": [
       "True"
      ]
     },
     "execution_count": 14,
     "metadata": {},
     "output_type": "execute_result"
    }
   ],
   "source": [
    "# True\n",
    "l.casefold() == u.casefold()"
   ]
  },
  {
   "cell_type": "code",
   "execution_count": 18,
   "id": "a2ec9ef4-196c-4dbb-91a8-bdc2dd71743d",
   "metadata": {},
   "outputs": [
    {
     "data": {
      "text/plain": [
       "False"
      ]
     },
     "execution_count": 18,
     "metadata": {},
     "output_type": "execute_result"
    }
   ],
   "source": [
    "# はしご高には使えないみたい\n",
    "\"髙\".casefold() == \"高\".casefold()"
   ]
  },
  {
   "cell_type": "markdown",
   "id": "ac0ac1f0-8635-4654-95b0-32b7bc6525e4",
   "metadata": {},
   "source": [
    "# strip"
   ]
  },
  {
   "cell_type": "code",
   "execution_count": 19,
   "id": "786384ad-2623-41cf-853f-532a5e43e341",
   "metadata": {},
   "outputs": [],
   "source": [
    "name = \"Peter \""
   ]
  },
  {
   "cell_type": "code",
   "execution_count": 20,
   "id": "0f00f03e-d6c8-4e47-9607-78777ba84b6e",
   "metadata": {},
   "outputs": [
    {
     "data": {
      "text/plain": [
       "'Peter'"
      ]
     },
     "execution_count": 20,
     "metadata": {},
     "output_type": "execute_result"
    }
   ],
   "source": [
    "name.rstrip()"
   ]
  },
  {
   "cell_type": "code",
   "execution_count": 21,
   "id": "031d5e00-3c65-4f3f-b6f4-beef6e904a9d",
   "metadata": {},
   "outputs": [],
   "source": [
    "name = \"\\tPeter\\tJones\""
   ]
  },
  {
   "cell_type": "code",
   "execution_count": 22,
   "id": "71151269-ad08-494d-92f3-42d7ec25e7d1",
   "metadata": {},
   "outputs": [
    {
     "name": "stdout",
     "output_type": "stream",
     "text": [
      "\tPeter\tJones\n"
     ]
    }
   ],
   "source": [
    "print(name)"
   ]
  },
  {
   "cell_type": "code",
   "execution_count": 23,
   "id": "c841877c-15df-470f-a113-089d6efe1a86",
   "metadata": {},
   "outputs": [
    {
     "data": {
      "text/plain": [
       "'Peter\\tJones'"
      ]
     },
     "execution_count": 23,
     "metadata": {},
     "output_type": "execute_result"
    }
   ],
   "source": [
    "name.strip()"
   ]
  },
  {
   "cell_type": "code",
   "execution_count": 24,
   "id": "2be094ff-ba24-474d-bb36-4ecd616fe02c",
   "metadata": {},
   "outputs": [],
   "source": [
    "name = \"ababPYTHONabab\""
   ]
  },
  {
   "cell_type": "code",
   "execution_count": 25,
   "id": "ae4684fe-bc68-498f-a0a2-f9f9e4be4235",
   "metadata": {},
   "outputs": [
    {
     "data": {
      "text/plain": [
       "'PYTHON'"
      ]
     },
     "execution_count": 25,
     "metadata": {},
     "output_type": "execute_result"
    }
   ],
   "source": [
    "name.strip(\"ab\")"
   ]
  },
  {
   "cell_type": "markdown",
   "id": "51312363-74b0-4842-9326-5e5c2e266e44",
   "metadata": {},
   "source": [
    "# split"
   ]
  },
  {
   "cell_type": "code",
   "execution_count": 26,
   "id": "bf6a5edd-722e-4f79-a786-61de43686ed1",
   "metadata": {},
   "outputs": [],
   "source": [
    "data = \"Jones,Peter\""
   ]
  },
  {
   "cell_type": "code",
   "execution_count": 28,
   "id": "76463ada-f945-4f89-abb9-247b1449b6dc",
   "metadata": {},
   "outputs": [],
   "source": [
    "split_data = data.split(\",\")"
   ]
  },
  {
   "cell_type": "code",
   "execution_count": 29,
   "id": "bda5f0d7-aa05-4dd3-916d-1585635a9ee2",
   "metadata": {},
   "outputs": [
    {
     "data": {
      "text/plain": [
       "['Jones', 'Peter']"
      ]
     },
     "execution_count": 29,
     "metadata": {},
     "output_type": "execute_result"
    }
   ],
   "source": [
    "split_data"
   ]
  },
  {
   "cell_type": "code",
   "execution_count": 30,
   "id": "cdaac2ed-0436-4294-a312-da30fb2ee6a4",
   "metadata": {},
   "outputs": [],
   "source": [
    "first_name, last_name = data.split(\",\")"
   ]
  },
  {
   "cell_type": "code",
   "execution_count": 31,
   "id": "e6834098-7632-4bbc-b727-7b4140e7e345",
   "metadata": {},
   "outputs": [
    {
     "data": {
      "text/plain": [
       "('Jones', 'Peter')"
      ]
     },
     "execution_count": 31,
     "metadata": {},
     "output_type": "execute_result"
    }
   ],
   "source": [
    "first_name, last_name"
   ]
  },
  {
   "cell_type": "markdown",
   "id": "0a312a44-ac56-4410-9854-11b668fabd80",
   "metadata": {},
   "source": [
    "# join"
   ]
  },
  {
   "cell_type": "code",
   "execution_count": 32,
   "id": "28ae2f19-a25d-44c0-b60b-b9b8c77b8f68",
   "metadata": {},
   "outputs": [],
   "source": [
    "data = [\"item1\", \"item2\", \"item3\"]"
   ]
  },
  {
   "cell_type": "code",
   "execution_count": 33,
   "id": "97a34e51-598a-4baa-9914-73915bad024d",
   "metadata": {},
   "outputs": [
    {
     "data": {
      "text/plain": [
       "'item1, item2, item3'"
      ]
     },
     "execution_count": 33,
     "metadata": {},
     "output_type": "execute_result"
    }
   ],
   "source": [
    "\", \".join(data)"
   ]
  },
  {
   "cell_type": "code",
   "execution_count": 34,
   "id": "3c47e331-803b-4459-ae09-97898395dd95",
   "metadata": {},
   "outputs": [
    {
     "data": {
      "text/plain": [
       "'a,b,c,d,e,f,g,h,i,j,k,l,m,n,o,p,q,r,s,t,u'"
      ]
     },
     "execution_count": 34,
     "metadata": {},
     "output_type": "execute_result"
    }
   ],
   "source": [
    "\",\".join(\"abcdefghijklmnopqrstu\")"
   ]
  },
  {
   "cell_type": "markdown",
   "id": "7522ac8e-c299-45a6-abf9-03b783a8db19",
   "metadata": {},
   "source": [
    "# in"
   ]
  },
  {
   "cell_type": "code",
   "execution_count": 35,
   "id": "41a2e2e1-8f17-4564-8093-728b8b24b5ca",
   "metadata": {},
   "outputs": [
    {
     "data": {
      "text/plain": [
       "True"
      ]
     },
     "execution_count": 35,
     "metadata": {},
     "output_type": "execute_result"
    }
   ],
   "source": [
    "\"rock\" in \"python rocks!\""
   ]
  },
  {
   "cell_type": "markdown",
   "id": "6195b895-e129-48dc-9b4e-3225e68320cf",
   "metadata": {},
   "source": [
    "# index"
   ]
  },
  {
   "cell_type": "code",
   "execution_count": 36,
   "id": "96088899-670d-4467-b367-f96f2b6ed23d",
   "metadata": {},
   "outputs": [
    {
     "data": {
      "text/plain": [
       "2"
      ]
     },
     "execution_count": 36,
     "metadata": {},
     "output_type": "execute_result"
    }
   ],
   "source": [
    "\"python\".index(\"t\")"
   ]
  },
  {
   "cell_type": "code",
   "execution_count": 37,
   "id": "ae70dfd8-1d9f-4469-ac9b-e80d115f969b",
   "metadata": {},
   "outputs": [
    {
     "ename": "ValueError",
     "evalue": "substring not found",
     "output_type": "error",
     "traceback": [
      "\u001b[1;31m---------------------------------------------------------------------------\u001b[0m",
      "\u001b[1;31mValueError\u001b[0m                                Traceback (most recent call last)",
      "Cell \u001b[1;32mIn[37], line 1\u001b[0m\n\u001b[1;32m----> 1\u001b[0m \u001b[38;5;124;43m\"\u001b[39;49m\u001b[38;5;124;43mpython\u001b[39;49m\u001b[38;5;124;43m\"\u001b[39;49m\u001b[38;5;241;43m.\u001b[39;49m\u001b[43mindex\u001b[49m\u001b[43m(\u001b[49m\u001b[38;5;124;43m\"\u001b[39;49m\u001b[38;5;124;43mz\u001b[39;49m\u001b[38;5;124;43m\"\u001b[39;49m\u001b[43m)\u001b[49m\n",
      "\u001b[1;31mValueError\u001b[0m: substring not found"
     ]
    }
   ],
   "source": [
    "\"python\".index(\"z\")"
   ]
  },
  {
   "cell_type": "code",
   "execution_count": 43,
   "id": "0af8f254-a057-4f69-9a09-951ba529a1de",
   "metadata": {},
   "outputs": [
    {
     "data": {
      "text/plain": [
       "1"
      ]
     },
     "execution_count": 43,
     "metadata": {},
     "output_type": "execute_result"
    }
   ],
   "source": [
    "# indexはlistでも使える\n",
    "l = [1, 2, 3, 4]\n",
    "l.index(2)"
   ]
  },
  {
   "cell_type": "markdown",
   "id": "e1ca7fdf-8d58-4abb-9319-5f33e2ea7f25",
   "metadata": {},
   "source": [
    "# find"
   ]
  },
  {
   "cell_type": "code",
   "execution_count": 39,
   "id": "b9ea0c7d-cd28-4660-b5d2-bd8d2ceb990a",
   "metadata": {},
   "outputs": [
    {
     "data": {
      "text/plain": [
       "2"
      ]
     },
     "execution_count": 39,
     "metadata": {},
     "output_type": "execute_result"
    }
   ],
   "source": [
    "\"python\".find(\"t\")"
   ]
  },
  {
   "cell_type": "code",
   "execution_count": 38,
   "id": "a2170271-f1b5-4c29-aed7-a223ec659d5e",
   "metadata": {},
   "outputs": [
    {
     "data": {
      "text/plain": [
       "-1"
      ]
     },
     "execution_count": 38,
     "metadata": {},
     "output_type": "execute_result"
    }
   ],
   "source": [
    "\"python\".find(\"z\")"
   ]
  },
  {
   "cell_type": "markdown",
   "id": "8936030a-641f-42bb-a32b-7d916a6f0a61",
   "metadata": {},
   "source": [
    "# startswith/endswith"
   ]
  },
  {
   "cell_type": "code",
   "execution_count": 40,
   "id": "bfa19355-fedd-4590-b856-6848a5b71f45",
   "metadata": {},
   "outputs": [
    {
     "data": {
      "text/plain": [
       "True"
      ]
     },
     "execution_count": 40,
     "metadata": {},
     "output_type": "execute_result"
    }
   ],
   "source": [
    "\"python rocks!\".startswith(\"python\")"
   ]
  },
  {
   "cell_type": "code",
   "execution_count": 41,
   "id": "8e545f38-8530-4920-bc65-2144f2ea7d24",
   "metadata": {},
   "outputs": [
    {
     "data": {
      "text/plain": [
       "True"
      ]
     },
     "execution_count": 41,
     "metadata": {},
     "output_type": "execute_result"
    }
   ],
   "source": [
    "\"python rocks!\".endswith(\"rocks!\")"
   ]
  },
  {
   "cell_type": "code",
   "execution_count": null,
   "id": "063bc6d2-7ab6-4850-85d6-4b6f5552f812",
   "metadata": {},
   "outputs": [],
   "source": []
  }
 ],
 "metadata": {
  "kernelspec": {
   "display_name": "Python 3 (ipykernel)",
   "language": "python",
   "name": "python3"
  },
  "language_info": {
   "codemirror_mode": {
    "name": "ipython",
    "version": 3
   },
   "file_extension": ".py",
   "mimetype": "text/x-python",
   "name": "python",
   "nbconvert_exporter": "python",
   "pygments_lexer": "ipython3",
   "version": "3.10.4"
  }
 },
 "nbformat": 4,
 "nbformat_minor": 5
}
