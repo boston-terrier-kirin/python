{
 "cells": [
  {
   "cell_type": "markdown",
   "id": "58852188-19c8-4a2f-b308-90886cb4ba8a",
   "metadata": {},
   "source": [
    "- https://www.compart.com/en/unicode/U+0041\n",
    "- https://www.compart.com/en/unicode/U+03B1\n",
    "- https://www.compart.com/en/unicode/U+1F40D"
   ]
  },
  {
   "cell_type": "code",
   "execution_count": 7,
   "id": "4ec37067-5d12-41f0-b304-298c4d8062c5",
   "metadata": {},
   "outputs": [
    {
     "data": {
      "text/plain": [
       "'0x41'"
      ]
     },
     "execution_count": 7,
     "metadata": {},
     "output_type": "execute_result"
    }
   ],
   "source": [
    "# ordはUnicode コードポイントを表す整数を返す\n",
    "# 0xは、16進数を表すprefix\n",
    "hex(ord(\"A\"))"
   ]
  },
  {
   "cell_type": "code",
   "execution_count": 8,
   "id": "0ed86264-b6ac-4925-9b79-1d443a5269a4",
   "metadata": {},
   "outputs": [
    {
     "data": {
      "text/plain": [
       "'0x3b1'"
      ]
     },
     "execution_count": 8,
     "metadata": {},
     "output_type": "execute_result"
    }
   ],
   "source": [
    "hex(ord(\"α\"))"
   ]
  },
  {
   "cell_type": "code",
   "execution_count": 9,
   "id": "6dab3cd6-b78f-41a0-a3f8-2ec6326d18ef",
   "metadata": {},
   "outputs": [
    {
     "data": {
      "text/plain": [
       "'0x1f40d'"
      ]
     },
     "execution_count": 9,
     "metadata": {},
     "output_type": "execute_result"
    }
   ],
   "source": [
    "hex(ord(\"🐍\"))"
   ]
  },
  {
   "cell_type": "markdown",
   "id": "2cd5888b-b8f9-4cce-b403-3e60b3269245",
   "metadata": {},
   "source": [
    "# 名前を指定する"
   ]
  },
  {
   "cell_type": "code",
   "execution_count": 12,
   "id": "e483af56-f311-4572-ab50-eaa4c606ea7d",
   "metadata": {},
   "outputs": [],
   "source": [
    "var = \"\\N{snake}\""
   ]
  },
  {
   "cell_type": "code",
   "execution_count": 13,
   "id": "6e4a623e-b8a8-42b6-b9fd-4f1fe3eaaeb5",
   "metadata": {},
   "outputs": [
    {
     "data": {
      "text/plain": [
       "'🐍'"
      ]
     },
     "execution_count": 13,
     "metadata": {},
     "output_type": "execute_result"
    }
   ],
   "source": [
    "var"
   ]
  },
  {
   "cell_type": "markdown",
   "id": "1e3972c9-fc24-40c3-8861-6da690eaec05",
   "metadata": {},
   "source": [
    "# codeを指定する"
   ]
  },
  {
   "cell_type": "code",
   "execution_count": 14,
   "id": "97d57bc8-7b93-4d39-bb8a-c135fad67b25",
   "metadata": {},
   "outputs": [],
   "source": [
    "# \\uは4文字の場合に使う\n",
    "var = \"\\u0041lways\""
   ]
  },
  {
   "cell_type": "code",
   "execution_count": 15,
   "id": "eb45c1c5-ac06-491d-90a2-f9ce6dc0fd42",
   "metadata": {},
   "outputs": [
    {
     "data": {
      "text/plain": [
       "'Always'"
      ]
     },
     "execution_count": 15,
     "metadata": {},
     "output_type": "execute_result"
    }
   ],
   "source": [
    "var"
   ]
  },
  {
   "cell_type": "code",
   "execution_count": 18,
   "id": "3aaafcfd-5c71-47f1-9a38-1189529d603f",
   "metadata": {},
   "outputs": [],
   "source": [
    "# \\Uは8文字の場合に使う\n",
    "var = \"\\U00000041lways\""
   ]
  },
  {
   "cell_type": "code",
   "execution_count": 19,
   "id": "306644b5-b701-41de-a26c-03f1ad45b331",
   "metadata": {},
   "outputs": [
    {
     "data": {
      "text/plain": [
       "'Always'"
      ]
     },
     "execution_count": 19,
     "metadata": {},
     "output_type": "execute_result"
    }
   ],
   "source": [
    "var"
   ]
  },
  {
   "cell_type": "code",
   "execution_count": 20,
   "id": "749f53b5-b984-47bc-ad26-3f68d275a06b",
   "metadata": {},
   "outputs": [],
   "source": [
    "var = \"\\U0001f40d\""
   ]
  },
  {
   "cell_type": "code",
   "execution_count": 21,
   "id": "32aa36a3-3b9c-4385-a39c-4259d17dc7dd",
   "metadata": {},
   "outputs": [
    {
     "data": {
      "text/plain": [
       "'🐍'"
      ]
     },
     "execution_count": 21,
     "metadata": {},
     "output_type": "execute_result"
    }
   ],
   "source": [
    "var"
   ]
  },
  {
   "cell_type": "code",
   "execution_count": null,
   "id": "9411f049-ed32-41e2-ac2d-c57e00e87472",
   "metadata": {},
   "outputs": [],
   "source": []
  }
 ],
 "metadata": {
  "kernelspec": {
   "display_name": "Python 3 (ipykernel)",
   "language": "python",
   "name": "python3"
  },
  "language_info": {
   "codemirror_mode": {
    "name": "ipython",
    "version": 3
   },
   "file_extension": ".py",
   "mimetype": "text/x-python",
   "name": "python",
   "nbconvert_exporter": "python",
   "pygments_lexer": "ipython3",
   "version": "3.10.4"
  }
 },
 "nbformat": 4,
 "nbformat_minor": 5
}
