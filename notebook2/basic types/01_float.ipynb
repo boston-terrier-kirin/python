{
 "cells": [
  {
   "cell_type": "markdown",
   "id": "c7e83d81-cd0a-4a2a-a9b9-13e6fc190dc7",
   "metadata": {},
   "source": [
    "# 2進数では0.1を表現しきれていない"
   ]
  },
  {
   "cell_type": "code",
   "execution_count": 1,
   "id": "70c46aec-7383-426b-b3c7-bb624ca3f0a0",
   "metadata": {},
   "outputs": [
    {
     "data": {
      "text/plain": [
       "'0.1000000000000000055511151'"
      ]
     },
     "execution_count": 1,
     "metadata": {},
     "output_type": "execute_result"
    }
   ],
   "source": [
    "format(0.1, \".25f\")"
   ]
  },
  {
   "cell_type": "code",
   "execution_count": 2,
   "id": "2e1fea80-2ff7-4a7c-8145-cdc5cf39db22",
   "metadata": {},
   "outputs": [
    {
     "data": {
      "text/plain": [
       "False"
      ]
     },
     "execution_count": 2,
     "metadata": {},
     "output_type": "execute_result"
    }
   ],
   "source": [
    "0.1 + 0.1 + 0.1 == 0.3"
   ]
  },
  {
   "cell_type": "code",
   "execution_count": null,
   "id": "a2770c71-9acd-4287-836b-ea0c278a5805",
   "metadata": {},
   "outputs": [],
   "source": []
  }
 ],
 "metadata": {
  "kernelspec": {
   "display_name": "Python 3 (ipykernel)",
   "language": "python",
   "name": "python3"
  },
  "language_info": {
   "codemirror_mode": {
    "name": "ipython",
    "version": 3
   },
   "file_extension": ".py",
   "mimetype": "text/x-python",
   "name": "python",
   "nbconvert_exporter": "python",
   "pygments_lexer": "ipython3",
   "version": "3.10.4"
  }
 },
 "nbformat": 4,
 "nbformat_minor": 5
}
