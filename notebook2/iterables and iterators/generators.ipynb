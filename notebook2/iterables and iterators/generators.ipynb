{
 "cells": [
  {
   "cell_type": "markdown",
   "id": "cd3e4d93-9d8d-4116-93f7-a7652154a061",
   "metadata": {},
   "source": [
    "# list comprehension の場合"
   ]
  },
  {
   "cell_type": "code",
   "execution_count": 1,
   "id": "7792c777-b5f2-4ce1-a92f-4a57eccfdab6",
   "metadata": {},
   "outputs": [],
   "source": [
    "squares = [i ** 2 for i in range(5)]"
   ]
  },
  {
   "cell_type": "code",
   "execution_count": 2,
   "id": "db385b91-02fb-426b-ae5a-0107cc88f6aa",
   "metadata": {},
   "outputs": [
    {
     "data": {
      "text/plain": [
       "[0, 1, 4, 9, 16]"
      ]
     },
     "execution_count": 2,
     "metadata": {},
     "output_type": "execute_result"
    }
   ],
   "source": [
    "squares"
   ]
  },
  {
   "cell_type": "markdown",
   "id": "292e2d88-5aa7-4246-b152-5866f3c195a0",
   "metadata": {},
   "source": [
    "# generator の場合"
   ]
  },
  {
   "cell_type": "code",
   "execution_count": 18,
   "id": "dd50f7cb-0ac4-4319-852a-b43d9a774d97",
   "metadata": {},
   "outputs": [],
   "source": [
    "squares = (i ** 2 for i in range(5))"
   ]
  },
  {
   "cell_type": "code",
   "execution_count": 19,
   "id": "4b0a3b29-df18-49b4-8564-aba2172c0145",
   "metadata": {},
   "outputs": [
    {
     "data": {
      "text/plain": [
       "<generator object <genexpr> at 0x0000028B7334FED0>"
      ]
     },
     "execution_count": 19,
     "metadata": {},
     "output_type": "execute_result"
    }
   ],
   "source": [
    "squares"
   ]
  },
  {
   "cell_type": "code",
   "execution_count": 20,
   "id": "b051a05a-3099-48b1-8f1c-0956080ac47d",
   "metadata": {},
   "outputs": [
    {
     "data": {
      "text/plain": [
       "True"
      ]
     },
     "execution_count": 20,
     "metadata": {},
     "output_type": "execute_result"
    }
   ],
   "source": [
    "# generator は iteratorでもある\n",
    "iter(squares) is squares"
   ]
  },
  {
   "cell_type": "code",
   "execution_count": 21,
   "id": "585dff3b-9c67-4474-babe-02155282b3ff",
   "metadata": {},
   "outputs": [
    {
     "data": {
      "text/plain": [
       "0"
      ]
     },
     "execution_count": 21,
     "metadata": {},
     "output_type": "execute_result"
    }
   ],
   "source": [
    "next(squares)"
   ]
  },
  {
   "cell_type": "code",
   "execution_count": 22,
   "id": "9d1a476c-67b1-4052-b944-a916f3042195",
   "metadata": {},
   "outputs": [
    {
     "data": {
      "text/plain": [
       "1"
      ]
     },
     "execution_count": 22,
     "metadata": {},
     "output_type": "execute_result"
    }
   ],
   "source": [
    "next(squares)"
   ]
  },
  {
   "cell_type": "code",
   "execution_count": 23,
   "id": "041b1308-61e7-4600-815a-908d45efa920",
   "metadata": {},
   "outputs": [
    {
     "data": {
      "text/plain": [
       "4"
      ]
     },
     "execution_count": 23,
     "metadata": {},
     "output_type": "execute_result"
    }
   ],
   "source": [
    "next(squares)"
   ]
  },
  {
   "cell_type": "code",
   "execution_count": 24,
   "id": "fe4e73a3-93bb-4a2c-826c-0ff9cd6b3896",
   "metadata": {},
   "outputs": [
    {
     "data": {
      "text/plain": [
       "9"
      ]
     },
     "execution_count": 24,
     "metadata": {},
     "output_type": "execute_result"
    }
   ],
   "source": [
    "next(squares)"
   ]
  },
  {
   "cell_type": "code",
   "execution_count": 25,
   "id": "47778e5a-668b-452c-8ab7-85882d2fef23",
   "metadata": {},
   "outputs": [
    {
     "data": {
      "text/plain": [
       "16"
      ]
     },
     "execution_count": 25,
     "metadata": {},
     "output_type": "execute_result"
    }
   ],
   "source": [
    "next(squares)"
   ]
  },
  {
   "cell_type": "code",
   "execution_count": 26,
   "id": "3288d13e-9d04-44a5-b693-855b868b4dd5",
   "metadata": {},
   "outputs": [
    {
     "ename": "StopIteration",
     "evalue": "",
     "output_type": "error",
     "traceback": [
      "\u001b[1;31m---------------------------------------------------------------------------\u001b[0m",
      "\u001b[1;31mStopIteration\u001b[0m                             Traceback (most recent call last)",
      "Cell \u001b[1;32mIn[26], line 1\u001b[0m\n\u001b[1;32m----> 1\u001b[0m \u001b[38;5;28;43mnext\u001b[39;49m\u001b[43m(\u001b[49m\u001b[43msquares\u001b[49m\u001b[43m)\u001b[49m\n",
      "\u001b[1;31mStopIteration\u001b[0m: "
     ]
    }
   ],
   "source": [
    "next(squares)"
   ]
  },
  {
   "cell_type": "markdown",
   "id": "bf3ed433-e802-4510-b79c-3c42c9a88c79",
   "metadata": {},
   "source": [
    "# 間違って消費してしまわないように注意"
   ]
  },
  {
   "cell_type": "code",
   "execution_count": 39,
   "id": "2c3118f5-80c0-4dc6-9821-f58e6d5fd87a",
   "metadata": {},
   "outputs": [],
   "source": [
    "squares = (i ** 2 for i in range(5))"
   ]
  },
  {
   "cell_type": "code",
   "execution_count": 40,
   "id": "29fe971d-bc06-44ba-9385-f19e0934ad5a",
   "metadata": {},
   "outputs": [
    {
     "data": {
      "text/plain": [
       "True"
      ]
     },
     "execution_count": 40,
     "metadata": {},
     "output_type": "execute_result"
    }
   ],
   "source": [
    "# これをやると、消費してしまう\n",
    "4 in squares"
   ]
  },
  {
   "cell_type": "code",
   "execution_count": 41,
   "id": "d3fa2644-5e6b-42b6-9fea-9376a02dbc03",
   "metadata": {},
   "outputs": [
    {
     "data": {
      "text/plain": [
       "[9, 16]"
      ]
     },
     "execution_count": 41,
     "metadata": {},
     "output_type": "execute_result"
    }
   ],
   "source": [
    "# 4が見つかるまでの値は消費済み\n",
    "list(squares)"
   ]
  },
  {
   "cell_type": "code",
   "execution_count": null,
   "id": "273187d2-8466-4768-8ea8-d7b24916adc5",
   "metadata": {},
   "outputs": [],
   "source": []
  }
 ],
 "metadata": {
  "kernelspec": {
   "display_name": "Python 3 (ipykernel)",
   "language": "python",
   "name": "python3"
  },
  "language_info": {
   "codemirror_mode": {
    "name": "ipython",
    "version": 3
   },
   "file_extension": ".py",
   "mimetype": "text/x-python",
   "name": "python",
   "nbconvert_exporter": "python",
   "pygments_lexer": "ipython3",
   "version": "3.10.4"
  }
 },
 "nbformat": 4,
 "nbformat_minor": 5
}
