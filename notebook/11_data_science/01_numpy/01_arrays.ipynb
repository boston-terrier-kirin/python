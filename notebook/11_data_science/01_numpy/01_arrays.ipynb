{
 "cells": [
  {
   "cell_type": "code",
   "execution_count": 14,
   "id": "22fdfbe8",
   "metadata": {},
   "outputs": [],
   "source": [
    "import numpy as np"
   ]
  },
  {
   "cell_type": "code",
   "execution_count": 38,
   "id": "b78e50ee",
   "metadata": {},
   "outputs": [],
   "source": [
    "my_list = [1, 2, 3]"
   ]
  },
  {
   "cell_type": "code",
   "execution_count": 39,
   "id": "99f933aa",
   "metadata": {},
   "outputs": [],
   "source": [
    "my_matrix =[[1, 2, 3], [4, 5, 6], [7, 8, 9]]"
   ]
  },
  {
   "cell_type": "code",
   "execution_count": 40,
   "id": "81fe9042",
   "metadata": {},
   "outputs": [],
   "source": [
    "arr = np.array(my_list)"
   ]
  },
  {
   "cell_type": "code",
   "execution_count": 41,
   "id": "a58e3d11",
   "metadata": {},
   "outputs": [
    {
     "data": {
      "text/plain": [
       "array([[1, 2, 3],\n",
       "       [4, 5, 6],\n",
       "       [7, 8, 9]])"
      ]
     },
     "execution_count": 41,
     "metadata": {},
     "output_type": "execute_result"
    }
   ],
   "source": [
    "np.array(my_matrix)"
   ]
  },
  {
   "cell_type": "markdown",
   "id": "54c7617c",
   "metadata": {},
   "source": [
    "# arange"
   ]
  },
  {
   "cell_type": "code",
   "execution_count": 15,
   "id": "d3bb0af6",
   "metadata": {},
   "outputs": [],
   "source": [
    "# listのrangeと同じ"
   ]
  },
  {
   "cell_type": "code",
   "execution_count": 8,
   "id": "14b62de7",
   "metadata": {},
   "outputs": [
    {
     "data": {
      "text/plain": [
       "array([0, 1, 2, 3, 4, 5, 6, 7, 8, 9])"
      ]
     },
     "execution_count": 8,
     "metadata": {},
     "output_type": "execute_result"
    }
   ],
   "source": [
    "np.arange(0, 10)"
   ]
  },
  {
   "cell_type": "markdown",
   "id": "0de7aace",
   "metadata": {},
   "source": [
    "# linspace"
   ]
  },
  {
   "cell_type": "code",
   "execution_count": null,
   "id": "507916e4",
   "metadata": {},
   "outputs": [],
   "source": [
    "# 0から5を10分割"
   ]
  },
  {
   "cell_type": "code",
   "execution_count": 44,
   "id": "14d9871a",
   "metadata": {},
   "outputs": [
    {
     "data": {
      "text/plain": [
       "array([0.        , 0.55555556, 1.11111111, 1.66666667, 2.22222222,\n",
       "       2.77777778, 3.33333333, 3.88888889, 4.44444444, 5.        ])"
      ]
     },
     "execution_count": 44,
     "metadata": {},
     "output_type": "execute_result"
    }
   ],
   "source": [
    "np.linspace(0, 5, 10)"
   ]
  },
  {
   "cell_type": "markdown",
   "id": "c76bc477",
   "metadata": {},
   "source": [
    "# eye"
   ]
  },
  {
   "cell_type": "code",
   "execution_count": 14,
   "id": "418fbf3c",
   "metadata": {},
   "outputs": [
    {
     "data": {
      "text/plain": [
       "array([[1., 0., 0., 0.],\n",
       "       [0., 1., 0., 0.],\n",
       "       [0., 0., 1., 0.],\n",
       "       [0., 0., 0., 1.]])"
      ]
     },
     "execution_count": 14,
     "metadata": {},
     "output_type": "execute_result"
    }
   ],
   "source": [
    "np.eye(4)"
   ]
  },
  {
   "cell_type": "markdown",
   "id": "721d313a",
   "metadata": {},
   "source": [
    "# rand"
   ]
  },
  {
   "cell_type": "code",
   "execution_count": 20,
   "id": "1e8e99f0",
   "metadata": {},
   "outputs": [
    {
     "data": {
      "text/plain": [
       "array([[0.95198405, 0.82527889, 0.41016987, 0.8400366 , 0.07024894],\n",
       "       [0.73708172, 0.27218394, 0.6218377 , 0.34441014, 0.33379269]])"
      ]
     },
     "execution_count": 20,
     "metadata": {},
     "output_type": "execute_result"
    }
   ],
   "source": [
    "np.random.rand(2, 5)"
   ]
  },
  {
   "cell_type": "markdown",
   "id": "6c61b77f",
   "metadata": {},
   "source": [
    "# randint"
   ]
  },
  {
   "cell_type": "code",
   "execution_count": null,
   "id": "aef6363b",
   "metadata": {},
   "outputs": [],
   "source": [
    "# 1から100の間でrandamな数字を10作る"
   ]
  },
  {
   "cell_type": "code",
   "execution_count": 19,
   "id": "6635216f",
   "metadata": {},
   "outputs": [
    {
     "data": {
      "text/plain": [
       "array([51, 93, 19, 37, 99, 47, 27, 32, 40, 33])"
      ]
     },
     "execution_count": 19,
     "metadata": {},
     "output_type": "execute_result"
    }
   ],
   "source": [
    "np.random.randint(1, 100, 10)"
   ]
  },
  {
   "cell_type": "markdown",
   "id": "9c5aa1c3",
   "metadata": {},
   "source": [
    "# reshape"
   ]
  },
  {
   "cell_type": "code",
   "execution_count": 21,
   "id": "d85dc1b7",
   "metadata": {},
   "outputs": [],
   "source": [
    "arr = np.arange(25)"
   ]
  },
  {
   "cell_type": "code",
   "execution_count": 22,
   "id": "ad6a9cef",
   "metadata": {},
   "outputs": [
    {
     "data": {
      "text/plain": [
       "array([ 0,  1,  2,  3,  4,  5,  6,  7,  8,  9, 10, 11, 12, 13, 14, 15, 16,\n",
       "       17, 18, 19, 20, 21, 22, 23, 24])"
      ]
     },
     "execution_count": 22,
     "metadata": {},
     "output_type": "execute_result"
    }
   ],
   "source": [
    "arr"
   ]
  },
  {
   "cell_type": "code",
   "execution_count": 23,
   "id": "3afa3a08",
   "metadata": {},
   "outputs": [
    {
     "data": {
      "text/plain": [
       "array([[ 0,  1,  2,  3,  4],\n",
       "       [ 5,  6,  7,  8,  9],\n",
       "       [10, 11, 12, 13, 14],\n",
       "       [15, 16, 17, 18, 19],\n",
       "       [20, 21, 22, 23, 24]])"
      ]
     },
     "execution_count": 23,
     "metadata": {},
     "output_type": "execute_result"
    }
   ],
   "source": [
    "arr.reshape(5, 5)"
   ]
  },
  {
   "cell_type": "markdown",
   "id": "5695c53f",
   "metadata": {},
   "source": [
    "# max, min"
   ]
  },
  {
   "cell_type": "code",
   "execution_count": 8,
   "id": "8a238f8c",
   "metadata": {},
   "outputs": [],
   "source": [
    "ranarr = np.random.randint(0, 50, 10)"
   ]
  },
  {
   "cell_type": "code",
   "execution_count": 9,
   "id": "f9eb1c78",
   "metadata": {},
   "outputs": [
    {
     "data": {
      "text/plain": [
       "array([20, 38, 30, 15, 22,  8, 21, 15, 42,  8])"
      ]
     },
     "execution_count": 9,
     "metadata": {},
     "output_type": "execute_result"
    }
   ],
   "source": [
    "ranarr"
   ]
  },
  {
   "cell_type": "code",
   "execution_count": 10,
   "id": "77b3c336",
   "metadata": {},
   "outputs": [
    {
     "data": {
      "text/plain": [
       "42"
      ]
     },
     "execution_count": 10,
     "metadata": {},
     "output_type": "execute_result"
    }
   ],
   "source": [
    "ranarr.max()"
   ]
  },
  {
   "cell_type": "code",
   "execution_count": 11,
   "id": "cd7fd4bc",
   "metadata": {},
   "outputs": [
    {
     "data": {
      "text/plain": [
       "8"
      ]
     },
     "execution_count": 11,
     "metadata": {},
     "output_type": "execute_result"
    }
   ],
   "source": [
    "ranarr.min()"
   ]
  },
  {
   "cell_type": "code",
   "execution_count": 12,
   "id": "90f29dc6",
   "metadata": {},
   "outputs": [
    {
     "data": {
      "text/plain": [
       "8"
      ]
     },
     "execution_count": 12,
     "metadata": {},
     "output_type": "execute_result"
    }
   ],
   "source": [
    "# maxの位置\n",
    "ranarr.argmax()"
   ]
  },
  {
   "cell_type": "code",
   "execution_count": 13,
   "id": "817e18a5",
   "metadata": {},
   "outputs": [
    {
     "data": {
      "text/plain": [
       "5"
      ]
     },
     "execution_count": 13,
     "metadata": {},
     "output_type": "execute_result"
    }
   ],
   "source": [
    "# minの位置\n",
    "ranarr.argmin()"
   ]
  },
  {
   "cell_type": "markdown",
   "id": "e4cd8514",
   "metadata": {},
   "source": [
    "# dtype"
   ]
  },
  {
   "cell_type": "code",
   "execution_count": 19,
   "id": "6d556d1d",
   "metadata": {},
   "outputs": [
    {
     "data": {
      "text/plain": [
       "dtype('int32')"
      ]
     },
     "execution_count": 19,
     "metadata": {},
     "output_type": "execute_result"
    }
   ],
   "source": [
    "arr.dtype"
   ]
  },
  {
   "cell_type": "code",
   "execution_count": null,
   "id": "a5a47c68",
   "metadata": {},
   "outputs": [],
   "source": []
  }
 ],
 "metadata": {
  "kernelspec": {
   "display_name": "Python 3 (ipykernel)",
   "language": "python",
   "name": "python3"
  },
  "language_info": {
   "codemirror_mode": {
    "name": "ipython",
    "version": 3
   },
   "file_extension": ".py",
   "mimetype": "text/x-python",
   "name": "python",
   "nbconvert_exporter": "python",
   "pygments_lexer": "ipython3",
   "version": "3.9.13"
  }
 },
 "nbformat": 4,
 "nbformat_minor": 5
}
