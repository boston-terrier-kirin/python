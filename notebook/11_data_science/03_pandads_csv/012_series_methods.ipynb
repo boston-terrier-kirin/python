{
 "cells": [
  {
   "cell_type": "markdown",
   "id": "9f8bb2f5",
   "metadata": {},
   "source": [
    "# Series Methods\n",
    "\n",
    "* `head()`\n",
    "* `tail()`\n",
    "* `describe()`\n",
    "* `unique()`\n",
    "* `nunique()`\n",
    "* `nlargest()`\n",
    "* `nsmallest()`\n",
    "* `value_counts()`\n",
    "* `plot()`"
   ]
  },
  {
   "cell_type": "code",
   "execution_count": 6,
   "id": "c1014238",
   "metadata": {},
   "outputs": [],
   "source": [
    "import pandas as pd"
   ]
  },
  {
   "cell_type": "code",
   "execution_count": 7,
   "id": "b1fabd15",
   "metadata": {},
   "outputs": [],
   "source": [
    "houses = pd.read_csv(\"kc_house_data.csv\")\n",
    "titanic = pd.read_csv(\"titanic.csv\")"
   ]
  },
  {
   "cell_type": "code",
   "execution_count": 19,
   "id": "d2a145ba",
   "metadata": {},
   "outputs": [],
   "source": [
    "df = pd.DataFrame({\n",
    "    \"scores\": [10, None, 20, 30, 10, 40]\n",
    "})"
   ]
  },
  {
   "cell_type": "markdown",
   "id": "1c95b73e",
   "metadata": {},
   "source": [
    "# head, tail"
   ]
  },
  {
   "cell_type": "code",
   "execution_count": null,
   "id": "d1ea160e",
   "metadata": {},
   "outputs": [],
   "source": [
    "ages = titanic[\"age\"]"
   ]
  },
  {
   "cell_type": "code",
   "execution_count": 10,
   "id": "e071a5b4",
   "metadata": {},
   "outputs": [
    {
     "data": {
      "text/plain": [
       "0        29\n",
       "1    0.9167\n",
       "2         2\n",
       "3        30\n",
       "4        25\n",
       "Name: age, dtype: object"
      ]
     },
     "execution_count": 10,
     "metadata": {},
     "output_type": "execute_result"
    }
   ],
   "source": [
    "ages.head(5)"
   ]
  },
  {
   "cell_type": "code",
   "execution_count": 11,
   "id": "30715384",
   "metadata": {},
   "outputs": [
    {
     "data": {
      "text/plain": [
       "5    48\n",
       "6    63\n",
       "7    39\n",
       "8    53\n",
       "9    71\n",
       "Name: age, dtype: object"
      ]
     },
     "execution_count": 11,
     "metadata": {},
     "output_type": "execute_result"
    }
   ],
   "source": [
    "ages.tail(5)"
   ]
  },
  {
   "cell_type": "markdown",
   "id": "a4dc36ca",
   "metadata": {},
   "source": [
    "# describe"
   ]
  },
  {
   "cell_type": "code",
   "execution_count": 12,
   "id": "e900c79b",
   "metadata": {},
   "outputs": [
    {
     "data": {
      "text/plain": [
       "count     10\n",
       "unique    10\n",
       "top       29\n",
       "freq       1\n",
       "Name: age, dtype: object"
      ]
     },
     "execution_count": 12,
     "metadata": {},
     "output_type": "execute_result"
    }
   ],
   "source": [
    "ages.describe()"
   ]
  },
  {
   "cell_type": "markdown",
   "id": "1688c4a2",
   "metadata": {},
   "source": [
    "# unique, nunique"
   ]
  },
  {
   "cell_type": "code",
   "execution_count": 13,
   "id": "f5f447f9",
   "metadata": {},
   "outputs": [
    {
     "data": {
      "text/plain": [
       "array(['29', '0.9167', '2', '30', '25', '48', '63', '39', '53', '71'],\n",
       "      dtype=object)"
      ]
     },
     "execution_count": 13,
     "metadata": {},
     "output_type": "execute_result"
    }
   ],
   "source": [
    "ages.unique()"
   ]
  },
  {
   "cell_type": "code",
   "execution_count": 15,
   "id": "3739adc7",
   "metadata": {},
   "outputs": [
    {
     "data": {
      "text/plain": [
       "numpy.ndarray"
      ]
     },
     "execution_count": 15,
     "metadata": {},
     "output_type": "execute_result"
    }
   ],
   "source": [
    "type(ages.unique())"
   ]
  },
  {
   "cell_type": "code",
   "execution_count": 16,
   "id": "b11da68d",
   "metadata": {},
   "outputs": [
    {
     "data": {
      "text/plain": [
       "10"
      ]
     },
     "execution_count": 16,
     "metadata": {},
     "output_type": "execute_result"
    }
   ],
   "source": [
    "ages.nunique()"
   ]
  },
  {
   "cell_type": "code",
   "execution_count": 17,
   "id": "bd14fd68",
   "metadata": {},
   "outputs": [
    {
     "data": {
      "text/plain": [
       "int"
      ]
     },
     "execution_count": 17,
     "metadata": {},
     "output_type": "execute_result"
    }
   ],
   "source": [
    "type(ages.nunique())"
   ]
  },
  {
   "cell_type": "code",
   "execution_count": 24,
   "id": "98cb72d1",
   "metadata": {},
   "outputs": [
    {
     "data": {
      "text/html": [
       "<div>\n",
       "<style scoped>\n",
       "    .dataframe tbody tr th:only-of-type {\n",
       "        vertical-align: middle;\n",
       "    }\n",
       "\n",
       "    .dataframe tbody tr th {\n",
       "        vertical-align: top;\n",
       "    }\n",
       "\n",
       "    .dataframe thead th {\n",
       "        text-align: right;\n",
       "    }\n",
       "</style>\n",
       "<table border=\"1\" class=\"dataframe\">\n",
       "  <thead>\n",
       "    <tr style=\"text-align: right;\">\n",
       "      <th></th>\n",
       "      <th>scores</th>\n",
       "    </tr>\n",
       "  </thead>\n",
       "  <tbody>\n",
       "    <tr>\n",
       "      <th>0</th>\n",
       "      <td>10.0</td>\n",
       "    </tr>\n",
       "    <tr>\n",
       "      <th>1</th>\n",
       "      <td>NaN</td>\n",
       "    </tr>\n",
       "    <tr>\n",
       "      <th>2</th>\n",
       "      <td>20.0</td>\n",
       "    </tr>\n",
       "    <tr>\n",
       "      <th>3</th>\n",
       "      <td>30.0</td>\n",
       "    </tr>\n",
       "    <tr>\n",
       "      <th>4</th>\n",
       "      <td>10.0</td>\n",
       "    </tr>\n",
       "    <tr>\n",
       "      <th>5</th>\n",
       "      <td>40.0</td>\n",
       "    </tr>\n",
       "  </tbody>\n",
       "</table>\n",
       "</div>"
      ],
      "text/plain": [
       "   scores\n",
       "0    10.0\n",
       "1     NaN\n",
       "2    20.0\n",
       "3    30.0\n",
       "4    10.0\n",
       "5    40.0"
      ]
     },
     "execution_count": 24,
     "metadata": {},
     "output_type": "execute_result"
    }
   ],
   "source": [
    "df"
   ]
  },
  {
   "cell_type": "code",
   "execution_count": 22,
   "id": "a5c1089b",
   "metadata": {},
   "outputs": [
    {
     "data": {
      "text/plain": [
       "4"
      ]
     },
     "execution_count": 22,
     "metadata": {},
     "output_type": "execute_result"
    }
   ],
   "source": [
    "# Noneは含まれない\n",
    "df[\"scores\"].nunique()"
   ]
  },
  {
   "cell_type": "code",
   "execution_count": 26,
   "id": "628bd89a",
   "metadata": {},
   "outputs": [
    {
     "data": {
      "text/plain": [
       "5"
      ]
     },
     "execution_count": 26,
     "metadata": {},
     "output_type": "execute_result"
    }
   ],
   "source": [
    "# Noneも含めたい場合、dropna=False\n",
    "df[\"scores\"].nunique(dropna=False)"
   ]
  },
  {
   "cell_type": "markdown",
   "id": "194d3e23",
   "metadata": {},
   "source": [
    "# nlargest, nsmallest"
   ]
  },
  {
   "cell_type": "code",
   "execution_count": 28,
   "id": "429243c2",
   "metadata": {},
   "outputs": [
    {
     "data": {
      "text/plain": [
       "5    40.0\n",
       "3    30.0\n",
       "2    20.0\n",
       "Name: scores, dtype: float64"
      ]
     },
     "execution_count": 28,
     "metadata": {},
     "output_type": "execute_result"
    }
   ],
   "source": [
    "df[\"scores\"].nlargest(3)"
   ]
  },
  {
   "cell_type": "code",
   "execution_count": 29,
   "id": "9c2a714b",
   "metadata": {},
   "outputs": [
    {
     "data": {
      "text/plain": [
       "0    10.0\n",
       "4    10.0\n",
       "2    20.0\n",
       "Name: scores, dtype: float64"
      ]
     },
     "execution_count": 29,
     "metadata": {},
     "output_type": "execute_result"
    }
   ],
   "source": [
    "df[\"scores\"].nsmallest(3)"
   ]
  },
  {
   "cell_type": "code",
   "execution_count": 34,
   "id": "24126c64",
   "metadata": {},
   "outputs": [
    {
     "data": {
      "text/plain": [
       "0    10.0\n",
       "4    10.0\n",
       "2    20.0\n",
       "Name: scores, dtype: float64"
      ]
     },
     "execution_count": 34,
     "metadata": {},
     "output_type": "execute_result"
    }
   ],
   "source": [
    "df[\"scores\"].nsmallest(3, keep=\"first\")"
   ]
  },
  {
   "cell_type": "code",
   "execution_count": 35,
   "id": "3ad62b62",
   "metadata": {},
   "outputs": [
    {
     "data": {
      "text/plain": [
       "4    10.0\n",
       "0    10.0\n",
       "2    20.0\n",
       "Name: scores, dtype: float64"
      ]
     },
     "execution_count": 35,
     "metadata": {},
     "output_type": "execute_result"
    }
   ],
   "source": [
    "df[\"scores\"].nsmallest(3, keep=\"last\")"
   ]
  },
  {
   "cell_type": "code",
   "execution_count": 36,
   "id": "273be9be",
   "metadata": {},
   "outputs": [
    {
     "data": {
      "text/plain": [
       "0    10.0\n",
       "4    10.0\n",
       "2    20.0\n",
       "Name: scores, dtype: float64"
      ]
     },
     "execution_count": 36,
     "metadata": {},
     "output_type": "execute_result"
    }
   ],
   "source": [
    "df[\"scores\"].nsmallest(3, keep=\"all\")"
   ]
  },
  {
   "cell_type": "markdown",
   "id": "3e6e48a5",
   "metadata": {},
   "source": [
    "# value_counts"
   ]
  },
  {
   "cell_type": "code",
   "execution_count": 38,
   "id": "5960e70f",
   "metadata": {},
   "outputs": [
    {
     "data": {
      "text/plain": [
       "3     9824\n",
       "4     6882\n",
       "2     2760\n",
       "5     1601\n",
       "6      272\n",
       "1      199\n",
       "7       38\n",
       "0       13\n",
       "8       13\n",
       "9        6\n",
       "10       3\n",
       "11       1\n",
       "33       1\n",
       "Name: bedrooms, dtype: int64"
      ]
     },
     "execution_count": 38,
     "metadata": {},
     "output_type": "execute_result"
    }
   ],
   "source": [
    "# https://pandas.pydata.org/docs/reference/api/pandas.Series.value_counts.html\n",
    "# The resulting object will be in descending order so that the first element is the most frequently-occurring element.\n",
    "# Excludes NA values by default.\n",
    "houses[\"bedrooms\"].value_counts()"
   ]
  },
  {
   "cell_type": "code",
   "execution_count": 39,
   "id": "eeb718d5",
   "metadata": {},
   "outputs": [
    {
     "data": {
      "text/html": [
       "<div>\n",
       "<style scoped>\n",
       "    .dataframe tbody tr th:only-of-type {\n",
       "        vertical-align: middle;\n",
       "    }\n",
       "\n",
       "    .dataframe tbody tr th {\n",
       "        vertical-align: top;\n",
       "    }\n",
       "\n",
       "    .dataframe thead th {\n",
       "        text-align: right;\n",
       "    }\n",
       "</style>\n",
       "<table border=\"1\" class=\"dataframe\">\n",
       "  <thead>\n",
       "    <tr style=\"text-align: right;\">\n",
       "      <th></th>\n",
       "      <th>scores</th>\n",
       "    </tr>\n",
       "  </thead>\n",
       "  <tbody>\n",
       "    <tr>\n",
       "      <th>0</th>\n",
       "      <td>10.0</td>\n",
       "    </tr>\n",
       "    <tr>\n",
       "      <th>1</th>\n",
       "      <td>NaN</td>\n",
       "    </tr>\n",
       "    <tr>\n",
       "      <th>2</th>\n",
       "      <td>20.0</td>\n",
       "    </tr>\n",
       "    <tr>\n",
       "      <th>3</th>\n",
       "      <td>30.0</td>\n",
       "    </tr>\n",
       "    <tr>\n",
       "      <th>4</th>\n",
       "      <td>10.0</td>\n",
       "    </tr>\n",
       "    <tr>\n",
       "      <th>5</th>\n",
       "      <td>40.0</td>\n",
       "    </tr>\n",
       "  </tbody>\n",
       "</table>\n",
       "</div>"
      ],
      "text/plain": [
       "   scores\n",
       "0    10.0\n",
       "1     NaN\n",
       "2    20.0\n",
       "3    30.0\n",
       "4    10.0\n",
       "5    40.0"
      ]
     },
     "execution_count": 39,
     "metadata": {},
     "output_type": "execute_result"
    }
   ],
   "source": [
    "df"
   ]
  },
  {
   "cell_type": "code",
   "execution_count": 41,
   "id": "72e3f348",
   "metadata": {},
   "outputs": [
    {
     "data": {
      "text/plain": [
       "20.0    1\n",
       "30.0    1\n",
       "40.0    1\n",
       "10.0    2\n",
       "Name: scores, dtype: int64"
      ]
     },
     "execution_count": 41,
     "metadata": {},
     "output_type": "execute_result"
    }
   ],
   "source": [
    "df[\"scores\"].value_counts(ascending=True)"
   ]
  },
  {
   "cell_type": "markdown",
   "id": "15402196",
   "metadata": {},
   "source": [
    "# plot"
   ]
  },
  {
   "cell_type": "code",
   "execution_count": 44,
   "id": "5c364cde",
   "metadata": {},
   "outputs": [
    {
     "data": {
      "text/plain": [
       "<AxesSubplot:>"
      ]
     },
     "execution_count": 44,
     "metadata": {},
     "output_type": "execute_result"
    },
    {
     "data": {
      "image/png": "[encoded data removed]",
      "text/plain": [
       "<Figure size 640x480 with 1 Axes>"
      ]
     },
     "metadata": {},
     "output_type": "display_data"
    }
   ],
   "source": [
    "# https://pandas.pydata.org/docs/reference/api/pandas.Series.plot.html\n",
    "bedrooms = houses[\"bedrooms\"]\n",
    "bedrooms.value_counts().plot(kind=\"bar\")"
   ]
  },
  {
   "cell_type": "code",
   "execution_count": 45,
   "id": "a24c13b9",
   "metadata": {},
   "outputs": [
    {
     "data": {
      "text/plain": [
       "<AxesSubplot:ylabel='bedrooms'>"
      ]
     },
     "execution_count": 45,
     "metadata": {},
     "output_type": "execute_result"
    },
    {
     "data": {
      "image/png": "[encoded data removed]",
      "text/plain": [
       "<Figure size 640x480 with 1 Axes>"
      ]
     },
     "metadata": {},
     "output_type": "display_data"
    }
   ],
   "source": [
    "bedrooms.value_counts().plot(kind=\"pie\")"
   ]
  },
  {
   "cell_type": "code",
   "execution_count": 47,
   "id": "0d4c9861",
   "metadata": {},
   "outputs": [
    {
     "data": {
      "text/plain": [
       "0    809\n",
       "1    500\n",
       "Name: survived, dtype: int64"
      ]
     },
     "execution_count": 47,
     "metadata": {},
     "output_type": "execute_result"
    }
   ],
   "source": [
    "titanic[\"survived\"].value_counts()"
   ]
  },
  {
   "cell_type": "code",
   "execution_count": 48,
   "id": "c42ac2f6",
   "metadata": {},
   "outputs": [
    {
     "data": {
      "text/plain": [
       "<AxesSubplot:ylabel='survived'>"
      ]
     },
     "execution_count": 48,
     "metadata": {},
     "output_type": "execute_result"
    },
    {
     "data": {
      "image/png": "[encoded data removed]",
      "text/plain": [
       "<Figure size 640x480 with 1 Axes>"
      ]
     },
     "metadata": {},
     "output_type": "display_data"
    }
   ],
   "source": [
    "titanic[\"survived\"].value_counts().plot(kind=\"pie\")"
   ]
  },
  {
   "cell_type": "markdown",
   "id": "25db8a83",
   "metadata": {},
   "source": [
    "### DataFrameでもplotは使える"
   ]
  },
  {
   "cell_type": "code",
   "execution_count": 49,
   "id": "c5c35433",
   "metadata": {},
   "outputs": [
    {
     "data": {
      "text/plain": [
       "<AxesSubplot:xlabel='bedrooms', ylabel='bathrooms'>"
      ]
     },
     "execution_count": 49,
     "metadata": {},
     "output_type": "execute_result"
    },
    {
     "data": {
      "image/png": "[encoded data removed]",
      "text/plain": [
       "<Figure size 640x480 with 1 Axes>"
      ]
     },
     "metadata": {},
     "output_type": "display_data"
    }
   ],
   "source": [
    "houses[[\"bedrooms\", \"bathrooms\"]].plot(kind=\"scatter\", x=\"bedrooms\", y=\"bathrooms\")"
   ]
  },
  {
   "cell_type": "code",
   "execution_count": null,
   "id": "ee151928",
   "metadata": {},
   "outputs": [],
   "source": []
  }
 ],
 "metadata": {
  "kernelspec": {
   "display_name": "Python 3 (ipykernel)",
   "language": "python",
   "name": "python3"
  },
  "language_info": {
   "codemirror_mode": {
    "name": "ipython",
    "version": 3
   },
   "file_extension": ".py",
   "mimetype": "text/x-python",
   "name": "python",
   "nbconvert_exporter": "python",
   "pygments_lexer": "ipython3",
   "version": "3.9.13"
  }
 },
 "nbformat": 4,
 "nbformat_minor": 5
}
