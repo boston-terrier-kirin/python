{
 "cells": [
  {
   "cell_type": "code",
   "execution_count": 14,
   "id": "967fe0b9",
   "metadata": {},
   "outputs": [],
   "source": [
    "import pandas as pd\n",
    "btc = pd.read_csv(\"coin_Bitcoin.csv\")\n",
    "countries = pd.read_csv(\"world-happiness-report-2021.csv\")\n",
    "houses = pd.read_csv(\"kc_house_data.csv\")\n",
    "titanic = pd.read_csv(\"titanic.csv\")\n",
    "netflix = pd.read_csv(\"netflix_titles.csv\", sep=\"|\")"
   ]
  },
  {
   "cell_type": "code",
   "execution_count": 15,
   "id": "5dec28f9",
   "metadata": {},
   "outputs": [],
   "source": [
    "btc.set_index(\"Date\", inplace=True)"
   ]
  },
  {
   "cell_type": "code",
   "execution_count": 16,
   "id": "c91ac79a",
   "metadata": {},
   "outputs": [],
   "source": [
    "btc[\"Change\"] = btc[\"Close\"] - btc[\"Open\"]"
   ]
  },
  {
   "cell_type": "code",
   "execution_count": 17,
   "id": "b3ee0252",
   "metadata": {},
   "outputs": [
    {
     "data": {
      "text/html": [
       "<div>\n",
       "<style scoped>\n",
       "    .dataframe tbody tr th:only-of-type {\n",
       "        vertical-align: middle;\n",
       "    }\n",
       "\n",
       "    .dataframe tbody tr th {\n",
       "        vertical-align: top;\n",
       "    }\n",
       "\n",
       "    .dataframe thead th {\n",
       "        text-align: right;\n",
       "    }\n",
       "</style>\n",
       "<table border=\"1\" class=\"dataframe\">\n",
       "  <thead>\n",
       "    <tr style=\"text-align: right;\">\n",
       "      <th></th>\n",
       "      <th>SNo</th>\n",
       "      <th>Name</th>\n",
       "      <th>Symbol</th>\n",
       "      <th>High</th>\n",
       "      <th>Low</th>\n",
       "      <th>Open</th>\n",
       "      <th>Close</th>\n",
       "      <th>Volume</th>\n",
       "      <th>Marketcap</th>\n",
       "      <th>Change</th>\n",
       "    </tr>\n",
       "    <tr>\n",
       "      <th>Date</th>\n",
       "      <th></th>\n",
       "      <th></th>\n",
       "      <th></th>\n",
       "      <th></th>\n",
       "      <th></th>\n",
       "      <th></th>\n",
       "      <th></th>\n",
       "      <th></th>\n",
       "      <th></th>\n",
       "      <th></th>\n",
       "    </tr>\n",
       "  </thead>\n",
       "  <tbody>\n",
       "    <tr>\n",
       "      <th>2013-04-29 23:59:59</th>\n",
       "      <td>1</td>\n",
       "      <td>Bitcoin</td>\n",
       "      <td>BTC</td>\n",
       "      <td>147.488007</td>\n",
       "      <td>134.000000</td>\n",
       "      <td>134.444000</td>\n",
       "      <td>144.539993</td>\n",
       "      <td>0.0</td>\n",
       "      <td>1.603769e+09</td>\n",
       "      <td>10.095993</td>\n",
       "    </tr>\n",
       "    <tr>\n",
       "      <th>2013-04-30 23:59:59</th>\n",
       "      <td>2</td>\n",
       "      <td>Bitcoin</td>\n",
       "      <td>BTC</td>\n",
       "      <td>146.929993</td>\n",
       "      <td>134.050003</td>\n",
       "      <td>144.000000</td>\n",
       "      <td>139.000000</td>\n",
       "      <td>0.0</td>\n",
       "      <td>1.542813e+09</td>\n",
       "      <td>-5.000000</td>\n",
       "    </tr>\n",
       "    <tr>\n",
       "      <th>2013-05-01 23:59:59</th>\n",
       "      <td>3</td>\n",
       "      <td>Bitcoin</td>\n",
       "      <td>BTC</td>\n",
       "      <td>139.889999</td>\n",
       "      <td>107.720001</td>\n",
       "      <td>139.000000</td>\n",
       "      <td>116.989998</td>\n",
       "      <td>0.0</td>\n",
       "      <td>1.298955e+09</td>\n",
       "      <td>-22.010002</td>\n",
       "    </tr>\n",
       "    <tr>\n",
       "      <th>2013-05-02 23:59:59</th>\n",
       "      <td>4</td>\n",
       "      <td>Bitcoin</td>\n",
       "      <td>BTC</td>\n",
       "      <td>125.599998</td>\n",
       "      <td>92.281898</td>\n",
       "      <td>116.379997</td>\n",
       "      <td>105.209999</td>\n",
       "      <td>0.0</td>\n",
       "      <td>1.168517e+09</td>\n",
       "      <td>-11.169998</td>\n",
       "    </tr>\n",
       "    <tr>\n",
       "      <th>2013-05-03 23:59:59</th>\n",
       "      <td>5</td>\n",
       "      <td>Bitcoin</td>\n",
       "      <td>BTC</td>\n",
       "      <td>108.127998</td>\n",
       "      <td>79.099998</td>\n",
       "      <td>106.250000</td>\n",
       "      <td>97.750000</td>\n",
       "      <td>0.0</td>\n",
       "      <td>1.085995e+09</td>\n",
       "      <td>-8.500000</td>\n",
       "    </tr>\n",
       "  </tbody>\n",
       "</table>\n",
       "</div>"
      ],
      "text/plain": [
       "                     SNo     Name Symbol        High         Low        Open  \\\n",
       "Date                                                                           \n",
       "2013-04-29 23:59:59    1  Bitcoin    BTC  147.488007  134.000000  134.444000   \n",
       "2013-04-30 23:59:59    2  Bitcoin    BTC  146.929993  134.050003  144.000000   \n",
       "2013-05-01 23:59:59    3  Bitcoin    BTC  139.889999  107.720001  139.000000   \n",
       "2013-05-02 23:59:59    4  Bitcoin    BTC  125.599998   92.281898  116.379997   \n",
       "2013-05-03 23:59:59    5  Bitcoin    BTC  108.127998   79.099998  106.250000   \n",
       "\n",
       "                          Close  Volume     Marketcap     Change  \n",
       "Date                                                              \n",
       "2013-04-29 23:59:59  144.539993     0.0  1.603769e+09  10.095993  \n",
       "2013-04-30 23:59:59  139.000000     0.0  1.542813e+09  -5.000000  \n",
       "2013-05-01 23:59:59  116.989998     0.0  1.298955e+09 -22.010002  \n",
       "2013-05-02 23:59:59  105.209999     0.0  1.168517e+09 -11.169998  \n",
       "2013-05-03 23:59:59   97.750000     0.0  1.085995e+09  -8.500000  "
      ]
     },
     "execution_count": 17,
     "metadata": {},
     "output_type": "execute_result"
    }
   ],
   "source": [
    "btc.head()"
   ]
  },
  {
   "cell_type": "code",
   "execution_count": 18,
   "id": "335f6c32",
   "metadata": {},
   "outputs": [
    {
     "data": {
      "text/plain": [
       "<AxesSubplot:xlabel='Date'>"
      ]
     },
     "execution_count": 18,
     "metadata": {},
     "output_type": "execute_result"
    },
    {
     "data": {
      "image/png": "[encoded data removed]",
      "text/plain": [
       "<Figure size 640x480 with 1 Axes>"
      ]
     },
     "metadata": {},
     "output_type": "display_data"
    }
   ],
   "source": [
    "btc.sort_values(\"Change\", ascending=False).head()[\"Change\"].plot(kind=\"bar\")"
   ]
  },
  {
   "cell_type": "code",
   "execution_count": null,
   "id": "58d3a74e",
   "metadata": {},
   "outputs": [],
   "source": []
  }
 ],
 "metadata": {
  "kernelspec": {
   "display_name": "Python 3 (ipykernel)",
   "language": "python",
   "name": "python3"
  },
  "language_info": {
   "codemirror_mode": {
    "name": "ipython",
    "version": 3
   },
   "file_extension": ".py",
   "mimetype": "text/x-python",
   "name": "python",
   "nbconvert_exporter": "python",
   "pygments_lexer": "ipython3",
   "version": "3.9.13"
  }
 },
 "nbformat": 4,
 "nbformat_minor": 5
}
