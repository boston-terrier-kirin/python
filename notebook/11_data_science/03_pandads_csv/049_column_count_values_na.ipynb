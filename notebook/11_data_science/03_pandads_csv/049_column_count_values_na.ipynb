{
 "cells": [
  {
   "cell_type": "code",
   "execution_count": 5,
   "id": "8be9b83e",
   "metadata": {},
   "outputs": [],
   "source": [
    "import pandas as pd\n",
    "titanic = pd.read_csv(\"titanic.csv\")"
   ]
  },
  {
   "cell_type": "markdown",
   "id": "d533e90b",
   "metadata": {},
   "source": [
    "# ageには?がたくさんある"
   ]
  },
  {
   "cell_type": "code",
   "execution_count": 7,
   "id": "3367649c",
   "metadata": {},
   "outputs": [
    {
     "data": {
      "text/plain": [
       "?         263\n",
       "24         47\n",
       "22         43\n",
       "21         41\n",
       "30         40\n",
       "         ... \n",
       "66          1\n",
       "0.6667      1\n",
       "76          1\n",
       "67          1\n",
       "26.5        1\n",
       "Name: age, Length: 99, dtype: int64"
      ]
     },
     "execution_count": 7,
     "metadata": {},
     "output_type": "execute_result"
    }
   ],
   "source": [
    "titanic[\"age\"].value_counts()"
   ]
  },
  {
   "cell_type": "markdown",
   "id": "cc5c4e26",
   "metadata": {},
   "source": [
    "# ?をNoneに置き換える"
   ]
  },
  {
   "cell_type": "code",
   "execution_count": 9,
   "id": "45d65a93",
   "metadata": {},
   "outputs": [
    {
     "data": {
      "text/plain": [
       "24        47\n",
       "22        43\n",
       "21        41\n",
       "30        40\n",
       "18        39\n",
       "          ..\n",
       "0.3333     1\n",
       "22.5       1\n",
       "70.5       1\n",
       "0.6667     1\n",
       "26.5       1\n",
       "Name: age, Length: 98, dtype: int64"
      ]
     },
     "execution_count": 9,
     "metadata": {},
     "output_type": "execute_result"
    }
   ],
   "source": [
    "# replace(\"?\", None)だと結果が変になっていたバージョンもあるらしい\n",
    "titanic[\"age\"].replace(\"?\", None).value_counts()"
   ]
  },
  {
   "cell_type": "code",
   "execution_count": 8,
   "id": "8b447c5b",
   "metadata": {},
   "outputs": [
    {
     "data": {
      "text/plain": [
       "24        47\n",
       "22        43\n",
       "21        41\n",
       "30        40\n",
       "18        39\n",
       "          ..\n",
       "0.3333     1\n",
       "22.5       1\n",
       "70.5       1\n",
       "0.6667     1\n",
       "26.5       1\n",
       "Name: age, Length: 98, dtype: int64"
      ]
     },
     "execution_count": 8,
     "metadata": {},
     "output_type": "execute_result"
    }
   ],
   "source": [
    "# Noneがカウントされない\n",
    "titanic[\"age\"].replace([\"?\"], [None]).value_counts()"
   ]
  },
  {
   "cell_type": "code",
   "execution_count": 11,
   "id": "4a2d3cce",
   "metadata": {},
   "outputs": [
    {
     "data": {
      "text/plain": [
       "None      263\n",
       "24         47\n",
       "22         43\n",
       "21         41\n",
       "30         40\n",
       "         ... \n",
       "66          1\n",
       "0.6667      1\n",
       "76          1\n",
       "67          1\n",
       "26.5        1\n",
       "Name: age, Length: 99, dtype: int64"
      ]
     },
     "execution_count": 11,
     "metadata": {},
     "output_type": "execute_result"
    }
   ],
   "source": [
    "# Noneもカウントする\n",
    "titanic[\"age\"].replace([\"?\"], [None]).value_counts(dropna=False)"
   ]
  },
  {
   "cell_type": "code",
   "execution_count": null,
   "id": "afb7a399",
   "metadata": {},
   "outputs": [],
   "source": []
  }
 ],
 "metadata": {
  "kernelspec": {
   "display_name": "Python 3 (ipykernel)",
   "language": "python",
   "name": "python3"
  },
  "language_info": {
   "codemirror_mode": {
    "name": "ipython",
    "version": 3
   },
   "file_extension": ".py",
   "mimetype": "text/x-python",
   "name": "python",
   "nbconvert_exporter": "python",
   "pygments_lexer": "ipython3",
   "version": "3.9.13"
  }
 },
 "nbformat": 4,
 "nbformat_minor": 5
}
