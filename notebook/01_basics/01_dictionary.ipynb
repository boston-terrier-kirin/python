{
 "cells": [
  {
   "cell_type": "markdown",
   "id": "13ae69ae",
   "metadata": {},
   "source": [
    "# tupleで返ってくる"
   ]
  },
  {
   "cell_type": "code",
   "execution_count": 1,
   "id": "9081ef35",
   "metadata": {},
   "outputs": [],
   "source": [
    "prices = {\"apple\":2.99, \"orange\": 1.45, \"milk\":5.80}"
   ]
  },
  {
   "cell_type": "code",
   "execution_count": 11,
   "id": "2eddeecf",
   "metadata": {},
   "outputs": [
    {
     "data": {
      "text/plain": [
       "dict_items([('apple', 2.99), ('orange', 1.45), ('milk', 5.8)])"
      ]
     },
     "execution_count": 11,
     "metadata": {},
     "output_type": "execute_result"
    }
   ],
   "source": [
    "prices.items()"
   ]
  },
  {
   "cell_type": "markdown",
   "id": "7563a35c",
   "metadata": {},
   "source": [
    "# nestも全然できる"
   ]
  },
  {
   "cell_type": "code",
   "execution_count": 6,
   "id": "20db79cc",
   "metadata": {},
   "outputs": [],
   "source": [
    "users = {\n",
    "    \"john\": {\n",
    "        \"first_name\": \"John\",\n",
    "        \"age\": 47\n",
    "    },\n",
    "    \"jane\": {\n",
    "        \"first_name\": \"Jane\",\n",
    "        \"age\": 42\n",
    "    }\n",
    "}"
   ]
  },
  {
   "cell_type": "code",
   "execution_count": 7,
   "id": "44ea94da",
   "metadata": {},
   "outputs": [
    {
     "data": {
      "text/plain": [
       "'John'"
      ]
     },
     "execution_count": 7,
     "metadata": {},
     "output_type": "execute_result"
    }
   ],
   "source": [
    "users[\"john\"][\"first_name\"]"
   ]
  },
  {
   "cell_type": "code",
   "execution_count": 8,
   "id": "a3f26543",
   "metadata": {},
   "outputs": [],
   "source": [
    "jane = users[\"jane\"]"
   ]
  },
  {
   "cell_type": "code",
   "execution_count": 9,
   "id": "d797145e",
   "metadata": {},
   "outputs": [
    {
     "data": {
      "text/plain": [
       "'Jane'"
      ]
     },
     "execution_count": 9,
     "metadata": {},
     "output_type": "execute_result"
    }
   ],
   "source": [
    "jane[\"first_name\"]"
   ]
  },
  {
   "cell_type": "code",
   "execution_count": 10,
   "id": "ca84af23",
   "metadata": {},
   "outputs": [
    {
     "data": {
      "text/plain": [
       "42"
      ]
     },
     "execution_count": 10,
     "metadata": {},
     "output_type": "execute_result"
    }
   ],
   "source": [
    "jane[\"age\"]"
   ]
  }
 ],
 "metadata": {
  "kernelspec": {
   "display_name": "Python 3 (ipykernel)",
   "language": "python",
   "name": "python3"
  },
  "language_info": {
   "codemirror_mode": {
    "name": "ipython",
    "version": 3
   },
   "file_extension": ".py",
   "mimetype": "text/x-python",
   "name": "python",
   "nbconvert_exporter": "python",
   "pygments_lexer": "ipython3",
   "version": "3.9.13"
  }
 },
 "nbformat": 4,
 "nbformat_minor": 5
}
