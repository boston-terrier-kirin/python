{
 "cells": [
  {
   "cell_type": "markdown",
   "id": "6402ea4f",
   "metadata": {},
   "source": [
    ">Write a function called reverse_string which accepts a string and returns a new string with all the characters reversed. "
   ]
  },
  {
   "cell_type": "code",
   "execution_count": 1,
   "id": "2f2a4267",
   "metadata": {},
   "outputs": [],
   "source": [
    "def reverse_string(word):\n",
    "    return word[::-1]"
   ]
  },
  {
   "cell_type": "code",
   "execution_count": 2,
   "id": "621aeb7b",
   "metadata": {},
   "outputs": [
    {
     "data": {
      "text/plain": [
       "'emosewa'"
      ]
     },
     "execution_count": 2,
     "metadata": {},
     "output_type": "execute_result"
    }
   ],
   "source": [
    "reverse_string('awesome')"
   ]
  },
  {
   "cell_type": "code",
   "execution_count": 4,
   "id": "19537576",
   "metadata": {},
   "outputs": [],
   "source": [
    "def reverse_string2(word):\n",
    "    return reversed(word)"
   ]
  },
  {
   "cell_type": "code",
   "execution_count": 5,
   "id": "e19c5b6f",
   "metadata": {},
   "outputs": [
    {
     "data": {
      "text/plain": [
       "'emosewa'"
      ]
     },
     "execution_count": 5,
     "metadata": {},
     "output_type": "execute_result"
    }
   ],
   "source": [
    "reverse_string('awesome')"
   ]
  },
  {
   "cell_type": "code",
   "execution_count": null,
   "id": "1cff3ab7",
   "metadata": {},
   "outputs": [],
   "source": []
  }
 ],
 "metadata": {
  "kernelspec": {
   "display_name": "Python 3 (ipykernel)",
   "language": "python",
   "name": "python3"
  },
  "language_info": {
   "codemirror_mode": {
    "name": "ipython",
    "version": 3
   },
   "file_extension": ".py",
   "mimetype": "text/x-python",
   "name": "python",
   "nbconvert_exporter": "python",
   "pygments_lexer": "ipython3",
   "version": "3.9.13"
  }
 },
 "nbformat": 4,
 "nbformat_minor": 5
}
