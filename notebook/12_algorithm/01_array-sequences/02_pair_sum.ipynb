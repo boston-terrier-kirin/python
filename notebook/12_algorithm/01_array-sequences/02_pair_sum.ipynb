{
 "cells": [
  {
   "cell_type": "markdown",
   "id": "3449c8a9",
   "metadata": {},
   "source": [
    "Given an integer array, output all the ** *unique* ** pairs that sum up to a specific value **k**.\n",
    "\n",
    "So the input:\n",
    "    \n",
    "    pair_sum([1,3,2,2],4)\n",
    "\n",
    "would return **2** pairs:\n",
    "\n",
    "     (1,3)\n",
    "     (2,2)"
   ]
  },
  {
   "cell_type": "code",
   "execution_count": 79,
   "id": "e3bb0510",
   "metadata": {},
   "outputs": [],
   "source": [
    "def pair_sum(arr, k):\n",
    "    checked = set()\n",
    "    pairs = set()\n",
    "\n",
    "    for num in arr:\n",
    "        # 4 - 1 = 3 がターゲットになる\n",
    "        target = k - num\n",
    "        \n",
    "        print(\"num\", num, target)\n",
    "\n",
    "        # check済みにいればペア成立\n",
    "        if target in checked:\n",
    "            print(\"pair\", num, target)\n",
    "            pair = (min(num, target), max(num, target))\n",
    "            pairs.add(pair)\n",
    "        else:\n",
    "            checked.add(num)\n",
    "        \n",
    "        print(\"*****\")\n",
    "\n",
    "    print(checked)\n",
    "    return list(pairs)"
   ]
  },
  {
   "cell_type": "code",
   "execution_count": 80,
   "id": "86e342e5",
   "metadata": {},
   "outputs": [
    {
     "name": "stdout",
     "output_type": "stream",
     "text": [
      "num 1 3\n",
      "*****\n",
      "num 3 1\n",
      "pair 3 1\n",
      "*****\n",
      "num 2 2\n",
      "*****\n",
      "num 2 2\n",
      "pair 2 2\n",
      "*****\n",
      "num 5 -1\n",
      "*****\n",
      "num 2 2\n",
      "pair 2 2\n",
      "*****\n",
      "{1, 2, 5}\n"
     ]
    },
    {
     "data": {
      "text/plain": [
       "[(1, 3), (2, 2)]"
      ]
     },
     "execution_count": 80,
     "metadata": {},
     "output_type": "execute_result"
    }
   ],
   "source": [
    "pair_sum([1, 3, 2, 2, 5, 2], 4)"
   ]
  },
  {
   "cell_type": "code",
   "execution_count": 26,
   "id": "6208f8c3",
   "metadata": {},
   "outputs": [
    {
     "name": "stdout",
     "output_type": "stream",
     "text": [
      "15\n",
      "4\n",
      "4\n",
      "ALL TEST CASES PASSED\n"
     ]
    }
   ],
   "source": [
    "\"\"\"\n",
    "RUN THIS CELL TO TEST YOUR SOLUTION\n",
    "\"\"\"\n",
    "from nose.tools import assert_equal\n",
    "\n",
    "class TestPair(object):\n",
    "    \n",
    "    def test(self,sol):\n",
    "        assert_equal(sol([1,9,2,8,3,7,4,6,5,5,13,14,11,13,-1],10),6)\n",
    "        assert_equal(sol([1,2,3,1],3),1)\n",
    "        assert_equal(sol([1,3,2,2],4),2)\n",
    "        print('ALL TEST CASES PASSED')\n",
    "        \n",
    "#Run tests\n",
    "t = TestPair()\n",
    "t.test(pair_sum)"
   ]
  }
 ],
 "metadata": {
  "kernelspec": {
   "display_name": "Python 3 (ipykernel)",
   "language": "python",
   "name": "python3"
  },
  "language_info": {
   "codemirror_mode": {
    "name": "ipython",
    "version": 3
   },
   "file_extension": ".py",
   "mimetype": "text/x-python",
   "name": "python",
   "nbconvert_exporter": "python",
   "pygments_lexer": "ipython3",
   "version": "3.9.13"
  }
 },
 "nbformat": 4,
 "nbformat_minor": 5
}
