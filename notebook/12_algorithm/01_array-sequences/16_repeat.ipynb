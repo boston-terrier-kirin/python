{
 "cells": [
  {
   "cell_type": "code",
   "execution_count": 2,
   "id": "807ceac3",
   "metadata": {},
   "outputs": [],
   "source": [
    "def repeat(word, repeat_at):\n",
    "    '''\n",
    "    repeat('*', 3) # '***' \n",
    "    repeat('abc', 2) # 'abcabc' \n",
    "    repeat('abc', 0) # ''\n",
    "    '''\n",
    "    if repeat_at == 0:\n",
    "        return \"\"\n",
    "    \n",
    "    return word * repeat_at"
   ]
  },
  {
   "cell_type": "code",
   "execution_count": 3,
   "id": "d5b08e51",
   "metadata": {},
   "outputs": [
    {
     "data": {
      "text/plain": [
       "'***'"
      ]
     },
     "execution_count": 3,
     "metadata": {},
     "output_type": "execute_result"
    }
   ],
   "source": [
    " repeat('*', 3)"
   ]
  },
  {
   "cell_type": "code",
   "execution_count": 4,
   "id": "c1491707",
   "metadata": {},
   "outputs": [
    {
     "data": {
      "text/plain": [
       "'abcabc'"
      ]
     },
     "execution_count": 4,
     "metadata": {},
     "output_type": "execute_result"
    }
   ],
   "source": [
    "repeat('abc', 2)"
   ]
  },
  {
   "cell_type": "code",
   "execution_count": 5,
   "id": "ec11218c",
   "metadata": {},
   "outputs": [
    {
     "data": {
      "text/plain": [
       "''"
      ]
     },
     "execution_count": 5,
     "metadata": {},
     "output_type": "execute_result"
    }
   ],
   "source": [
    "repeat('abc', 0)"
   ]
  },
  {
   "cell_type": "code",
   "execution_count": null,
   "id": "2be9f529",
   "metadata": {},
   "outputs": [],
   "source": []
  }
 ],
 "metadata": {
  "kernelspec": {
   "display_name": "Python 3 (ipykernel)",
   "language": "python",
   "name": "python3"
  },
  "language_info": {
   "codemirror_mode": {
    "name": "ipython",
    "version": 3
   },
   "file_extension": ".py",
   "mimetype": "text/x-python",
   "name": "python",
   "nbconvert_exporter": "python",
   "pygments_lexer": "ipython3",
   "version": "3.9.13"
  }
 },
 "nbformat": 4,
 "nbformat_minor": 5
}
