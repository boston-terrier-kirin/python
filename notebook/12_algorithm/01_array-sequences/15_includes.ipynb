{
 "cells": [
  {
   "cell_type": "code",
   "execution_count": 26,
   "id": "a1124556",
   "metadata": {},
   "outputs": [],
   "source": [
    "def includes(items, target, start_at=None):\n",
    "    '''\n",
    "    includes([1, 2, 3], 1) # True \n",
    "    includes([1, 2, 3], 1, 2) # False \n",
    "    includes({ 'a': 1, 'b': 2 }, 1) # True \n",
    "    includes({ 'a': 1, 'b': 2 }, 'a') # False\n",
    "    includes('abcd', 'b') # True\n",
    "    includes('abcd', 'e') # False\n",
    "    '''\n",
    "    if type(items) == dict:\n",
    "        return target in items.values()\n",
    "    if start_at is None:\n",
    "        return target in items\n",
    "    return target in items[start_at:]"
   ]
  },
  {
   "cell_type": "code",
   "execution_count": 27,
   "id": "0f42d30e",
   "metadata": {},
   "outputs": [
    {
     "data": {
      "text/plain": [
       "True"
      ]
     },
     "execution_count": 27,
     "metadata": {},
     "output_type": "execute_result"
    }
   ],
   "source": [
    "includes({ 'a': 1, 'b': 2 }, 1)"
   ]
  },
  {
   "cell_type": "code",
   "execution_count": 28,
   "id": "5f84bb2c",
   "metadata": {},
   "outputs": [
    {
     "data": {
      "text/plain": [
       "False"
      ]
     },
     "execution_count": 28,
     "metadata": {},
     "output_type": "execute_result"
    }
   ],
   "source": [
    "includes('abcd', 'e')"
   ]
  },
  {
   "cell_type": "code",
   "execution_count": 29,
   "id": "3ec36d01",
   "metadata": {},
   "outputs": [
    {
     "data": {
      "text/plain": [
       "False"
      ]
     },
     "execution_count": 29,
     "metadata": {},
     "output_type": "execute_result"
    }
   ],
   "source": [
    "includes([1, 2, 3], 1, 2)"
   ]
  },
  {
   "cell_type": "code",
   "execution_count": null,
   "id": "491058bd",
   "metadata": {},
   "outputs": [],
   "source": []
  }
 ],
 "metadata": {
  "kernelspec": {
   "display_name": "Python 3 (ipykernel)",
   "language": "python",
   "name": "python3"
  },
  "language_info": {
   "codemirror_mode": {
    "name": "ipython",
    "version": 3
   },
   "file_extension": ".py",
   "mimetype": "text/x-python",
   "name": "python",
   "nbconvert_exporter": "python",
   "pygments_lexer": "ipython3",
   "version": "3.9.13"
  }
 },
 "nbformat": 4,
 "nbformat_minor": 5
}
