{
 "cells": [
  {
   "cell_type": "markdown",
   "id": "43b24979",
   "metadata": {},
   "source": [
    "> Write a function called find_factors which accepts a number and returns a list of all of the numbers which are is divisible by starting from 1 and going up to the number."
   ]
  },
  {
   "cell_type": "code",
   "execution_count": 1,
   "id": "b1edd025",
   "metadata": {},
   "outputs": [],
   "source": [
    "def find_factors(num):\n",
    "    '''\n",
    "    find_factors(10) # [1,2,5,10 ]\n",
    "    find_factors(11) # [1,11]\n",
    "    find_factors(111) # [1,3,37,111 ]\n",
    "    find_factors(321421) # [1,293,1097,321421 ]\n",
    "    find_factors(412146) # [1,2,3,6,7,9,14,18,21,42,63,126,3271,6542,9813,19626,22897,29439,45794,58878,68691,137382,206073,412146]\n",
    "    '''\n",
    "    factors = []\n",
    "    for n in range(1, num + 1):\n",
    "        if num % n == 0:\n",
    "            factors.append(n)\n",
    "    \n",
    "    return factors"
   ]
  },
  {
   "cell_type": "code",
   "execution_count": 2,
   "id": "eb6ddbc3",
   "metadata": {},
   "outputs": [
    {
     "data": {
      "text/plain": [
       "[1, 2, 5, 10]"
      ]
     },
     "execution_count": 2,
     "metadata": {},
     "output_type": "execute_result"
    }
   ],
   "source": [
    "find_factors(10)"
   ]
  },
  {
   "cell_type": "code",
   "execution_count": 3,
   "id": "f0c72cde",
   "metadata": {},
   "outputs": [
    {
     "data": {
      "text/plain": [
       "[1, 293, 1097, 321421]"
      ]
     },
     "execution_count": 3,
     "metadata": {},
     "output_type": "execute_result"
    }
   ],
   "source": [
    "find_factors(321421)"
   ]
  },
  {
   "cell_type": "code",
   "execution_count": null,
   "id": "d0083693",
   "metadata": {},
   "outputs": [],
   "source": []
  }
 ],
 "metadata": {
  "kernelspec": {
   "display_name": "Python 3 (ipykernel)",
   "language": "python",
   "name": "python3"
  },
  "language_info": {
   "codemirror_mode": {
    "name": "ipython",
    "version": 3
   },
   "file_extension": ".py",
   "mimetype": "text/x-python",
   "name": "python",
   "nbconvert_exporter": "python",
   "pygments_lexer": "ipython3",
   "version": "3.9.13"
  }
 },
 "nbformat": 4,
 "nbformat_minor": 5
}
