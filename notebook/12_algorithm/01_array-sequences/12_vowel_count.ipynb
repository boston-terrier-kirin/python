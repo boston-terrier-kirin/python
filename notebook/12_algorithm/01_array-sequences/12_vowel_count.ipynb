{
 "cells": [
  {
   "cell_type": "code",
   "execution_count": 18,
   "id": "4b8fe7d9",
   "metadata": {},
   "outputs": [],
   "source": [
    "def vowel_count(word):\n",
    "    '''\n",
    "    vowel_count('awesome') # {'a': 1, 'e': 2, 'o': 1}\n",
    "    vowel_count('Elie') # {'e': 2, 'i': 1}\n",
    "    vowel_count('Colt') # {'o': 1}\n",
    "    '''\n",
    "    vowel = \"aiueo\"\n",
    "    vowel_dict = {}\n",
    "    word = word.lower()\n",
    "    \n",
    "    for letter in word:\n",
    "        if letter in vowel:\n",
    "            cnt = vowel_dict.get(letter, 0)\n",
    "            vowel_dict[letter] = cnt + 1\n",
    "    return vowel_dict"
   ]
  },
  {
   "cell_type": "code",
   "execution_count": 19,
   "id": "1fff6729",
   "metadata": {},
   "outputs": [
    {
     "data": {
      "text/plain": [
       "{'a': 1, 'e': 2, 'o': 1}"
      ]
     },
     "execution_count": 19,
     "metadata": {},
     "output_type": "execute_result"
    }
   ],
   "source": [
    "vowel_count('awesome')"
   ]
  },
  {
   "cell_type": "code",
   "execution_count": 20,
   "id": "0e38c58b",
   "metadata": {},
   "outputs": [
    {
     "data": {
      "text/plain": [
       "{'e': 2, 'i': 1}"
      ]
     },
     "execution_count": 20,
     "metadata": {},
     "output_type": "execute_result"
    }
   ],
   "source": [
    "vowel_count('Elie')"
   ]
  },
  {
   "cell_type": "code",
   "execution_count": 21,
   "id": "c9a7b47b",
   "metadata": {},
   "outputs": [
    {
     "data": {
      "text/plain": [
       "{'o': 1}"
      ]
     },
     "execution_count": 21,
     "metadata": {},
     "output_type": "execute_result"
    }
   ],
   "source": [
    "vowel_count('Colt')"
   ]
  },
  {
   "cell_type": "code",
   "execution_count": null,
   "id": "f410911d",
   "metadata": {},
   "outputs": [],
   "source": []
  }
 ],
 "metadata": {
  "kernelspec": {
   "display_name": "Python 3 (ipykernel)",
   "language": "python",
   "name": "python3"
  },
  "language_info": {
   "codemirror_mode": {
    "name": "ipython",
    "version": 3
   },
   "file_extension": ".py",
   "mimetype": "text/x-python",
   "name": "python",
   "nbconvert_exporter": "python",
   "pygments_lexer": "ipython3",
   "version": "3.9.13"
  }
 },
 "nbformat": 4,
 "nbformat_minor": 5
}
