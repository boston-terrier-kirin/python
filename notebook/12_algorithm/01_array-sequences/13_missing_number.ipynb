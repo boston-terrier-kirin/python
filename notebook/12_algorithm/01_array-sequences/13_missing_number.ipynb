{
 "cells": [
  {
   "cell_type": "code",
   "execution_count": 3,
   "id": "58fd3633",
   "metadata": {},
   "outputs": [],
   "source": [
    "def missing_number(arr, n):\n",
    "    for i in range(1, n + 1):\n",
    "        if i not in arr:\n",
    "            return i"
   ]
  },
  {
   "cell_type": "code",
   "execution_count": 4,
   "id": "67c4e5fc",
   "metadata": {},
   "outputs": [
    {
     "data": {
      "text/plain": [
       "5"
      ]
     },
     "execution_count": 4,
     "metadata": {},
     "output_type": "execute_result"
    }
   ],
   "source": [
    "missing_number([1, 2, 3, 4, 6], 6)"
   ]
  },
  {
   "cell_type": "markdown",
   "id": "8d460f5c",
   "metadata": {},
   "source": [
    "# 合計の計算方法"
   ]
  },
  {
   "cell_type": "code",
   "execution_count": 6,
   "id": "72065325",
   "metadata": {},
   "outputs": [
    {
     "data": {
      "text/plain": [
       "15"
      ]
     },
     "execution_count": 6,
     "metadata": {},
     "output_type": "execute_result"
    }
   ],
   "source": [
    "sum([1, 2, 3, 4, 5])"
   ]
  },
  {
   "cell_type": "code",
   "execution_count": 7,
   "id": "e4650c76",
   "metadata": {},
   "outputs": [
    {
     "data": {
      "text/plain": [
       "15.0"
      ]
     },
     "execution_count": 7,
     "metadata": {},
     "output_type": "execute_result"
    }
   ],
   "source": [
    "5 * (5 + 1) / 2"
   ]
  },
  {
   "cell_type": "code",
   "execution_count": 8,
   "id": "52ccd5d1",
   "metadata": {},
   "outputs": [],
   "source": [
    "def missing_number(arr, n):\n",
    "    target_sum = n * (n + 1) / 2\n",
    "    actual_sum = sum(arr)\n",
    "    \n",
    "    # 合計 - 実合計 がmissing numberになる\n",
    "    return target_sum - actual_sum"
   ]
  },
  {
   "cell_type": "code",
   "execution_count": 9,
   "id": "2dacb44a",
   "metadata": {},
   "outputs": [
    {
     "data": {
      "text/plain": [
       "5.0"
      ]
     },
     "execution_count": 9,
     "metadata": {},
     "output_type": "execute_result"
    }
   ],
   "source": [
    "missing_number([1, 2, 3, 4, 6], 6)"
   ]
  },
  {
   "cell_type": "code",
   "execution_count": null,
   "id": "c069be31",
   "metadata": {},
   "outputs": [],
   "source": []
  }
 ],
 "metadata": {
  "kernelspec": {
   "display_name": "Python 3 (ipykernel)",
   "language": "python",
   "name": "python3"
  },
  "language_info": {
   "codemirror_mode": {
    "name": "ipython",
    "version": 3
   },
   "file_extension": ".py",
   "mimetype": "text/x-python",
   "name": "python",
   "nbconvert_exporter": "python",
   "pygments_lexer": "ipython3",
   "version": "3.9.13"
  }
 },
 "nbformat": 4,
 "nbformat_minor": 5
}
