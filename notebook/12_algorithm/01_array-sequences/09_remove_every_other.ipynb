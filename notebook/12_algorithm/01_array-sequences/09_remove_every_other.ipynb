{
 "cells": [
  {
   "cell_type": "markdown",
   "id": "b398df3d",
   "metadata": {},
   "source": [
    "> Write a function called remove_every_other that accepts a list and returns a new list with every second value removed."
   ]
  },
  {
   "cell_type": "code",
   "execution_count": 15,
   "id": "a5edc5cf",
   "metadata": {},
   "outputs": [],
   "source": [
    "def remove_every_other(items):\n",
    "    '''\n",
    "    remove_every_other([1,2,3,4,5]) # [1,3,5] \n",
    "    remove_every_other([5,1,2,4,1]) # [5,2,1]\n",
    "    remove_every_other([1]) # [1] \n",
    "    '''\n",
    "    new_items = []\n",
    "    for index, item in enumerate(items):\n",
    "        if index % 2 == 0:\n",
    "            new_items.append(item)\n",
    "    return new_items"
   ]
  },
  {
   "cell_type": "code",
   "execution_count": 16,
   "id": "a12a1412",
   "metadata": {},
   "outputs": [],
   "source": [
    "def remove_every_other(items):\n",
    "    return [item for index, item in enumerate(items) if index % 2 ==0]"
   ]
  },
  {
   "cell_type": "code",
   "execution_count": 17,
   "id": "18f26122",
   "metadata": {},
   "outputs": [
    {
     "data": {
      "text/plain": [
       "[1, 3, 5]"
      ]
     },
     "execution_count": 17,
     "metadata": {},
     "output_type": "execute_result"
    }
   ],
   "source": [
    "remove_every_other([1,2,3,4,5])"
   ]
  },
  {
   "cell_type": "code",
   "execution_count": 18,
   "id": "2e86fce5",
   "metadata": {},
   "outputs": [
    {
     "data": {
      "text/plain": [
       "[5, 2, 1]"
      ]
     },
     "execution_count": 18,
     "metadata": {},
     "output_type": "execute_result"
    }
   ],
   "source": [
    "remove_every_other([5,1,2,4,1])"
   ]
  },
  {
   "cell_type": "code",
   "execution_count": 19,
   "id": "6a4cdb46",
   "metadata": {},
   "outputs": [
    {
     "data": {
      "text/plain": [
       "[1]"
      ]
     },
     "execution_count": 19,
     "metadata": {},
     "output_type": "execute_result"
    }
   ],
   "source": [
    "remove_every_other([1])"
   ]
  },
  {
   "cell_type": "code",
   "execution_count": null,
   "id": "017e9e72",
   "metadata": {},
   "outputs": [],
   "source": []
  }
 ],
 "metadata": {
  "kernelspec": {
   "display_name": "Python 3 (ipykernel)",
   "language": "python",
   "name": "python3"
  },
  "language_info": {
   "codemirror_mode": {
    "name": "ipython",
    "version": 3
   },
   "file_extension": ".py",
   "mimetype": "text/x-python",
   "name": "python",
   "nbconvert_exporter": "python",
   "pygments_lexer": "ipython3",
   "version": "3.9.13"
  }
 },
 "nbformat": 4,
 "nbformat_minor": 5
}
