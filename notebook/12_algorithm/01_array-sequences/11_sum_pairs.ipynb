{
 "cells": [
  {
   "cell_type": "code",
   "execution_count": 7,
   "id": "b3a43c99",
   "metadata": {},
   "outputs": [],
   "source": [
    "def sum_pairs(nums, target_sum):\n",
    "    '''\n",
    "    sum_pairs([4,2,10,5,1], 6) # [4,2]\n",
    "    sum_pairs([11,20,4,2,1,5], 100) # []\n",
    "    '''\n",
    "    checked = set()\n",
    "    for num in nums:\n",
    "        # target_sum - 自分 がcheck済みの場合、ペア成立。\n",
    "        diff = target_sum - num\n",
    "\n",
    "        if diff in checked:\n",
    "            return [diff, num]\n",
    "        checked.add(num)\n",
    "\n",
    "    return []"
   ]
  },
  {
   "cell_type": "code",
   "execution_count": 5,
   "id": "c8233e3d",
   "metadata": {},
   "outputs": [
    {
     "data": {
      "text/plain": [
       "[4, 2]"
      ]
     },
     "execution_count": 5,
     "metadata": {},
     "output_type": "execute_result"
    }
   ],
   "source": [
    "sum_pairs([4,2,10,5,1], 6)"
   ]
  },
  {
   "cell_type": "code",
   "execution_count": 6,
   "id": "d5e6ebb9",
   "metadata": {},
   "outputs": [
    {
     "data": {
      "text/plain": [
       "[]"
      ]
     },
     "execution_count": 6,
     "metadata": {},
     "output_type": "execute_result"
    }
   ],
   "source": [
    "sum_pairs([11,20,4,2,1,5], 100)"
   ]
  },
  {
   "cell_type": "code",
   "execution_count": null,
   "id": "d9917896",
   "metadata": {},
   "outputs": [],
   "source": []
  }
 ],
 "metadata": {
  "kernelspec": {
   "display_name": "Python 3 (ipykernel)",
   "language": "python",
   "name": "python3"
  },
  "language_info": {
   "codemirror_mode": {
    "name": "ipython",
    "version": 3
   },
   "file_extension": ".py",
   "mimetype": "text/x-python",
   "name": "python",
   "nbconvert_exporter": "python",
   "pygments_lexer": "ipython3",
   "version": "3.9.13"
  }
 },
 "nbformat": 4,
 "nbformat_minor": 5
}
