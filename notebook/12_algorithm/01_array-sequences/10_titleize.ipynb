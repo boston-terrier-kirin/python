{
 "cells": [
  {
   "cell_type": "code",
   "execution_count": 10,
   "id": "ba8cca84",
   "metadata": {},
   "outputs": [],
   "source": [
    "def titleize(words):\n",
    "    '''\n",
    "    titleize('this is awesome') # \"This Is Awesome\"\n",
    "    titleize('oNLy cAPITALIZe fIRSt') # \"ONLy CAPITALIZe FIRSt\"\n",
    "    '''\n",
    "    return \" \".join([word[0].upper() + word[1:] for word in words.split(\" \")])"
   ]
  },
  {
   "cell_type": "code",
   "execution_count": 11,
   "id": "b9dd096a",
   "metadata": {},
   "outputs": [
    {
     "data": {
      "text/plain": [
       "'This Is Awesome'"
      ]
     },
     "execution_count": 11,
     "metadata": {},
     "output_type": "execute_result"
    }
   ],
   "source": [
    "titleize('this is awesome')"
   ]
  },
  {
   "cell_type": "code",
   "execution_count": 12,
   "id": "b9844156",
   "metadata": {},
   "outputs": [
    {
     "data": {
      "text/plain": [
       "'ONLy CAPITALIZe FIRSt'"
      ]
     },
     "execution_count": 12,
     "metadata": {},
     "output_type": "execute_result"
    }
   ],
   "source": [
    "titleize('oNLy cAPITALIZe fIRSt')"
   ]
  },
  {
   "cell_type": "code",
   "execution_count": null,
   "id": "b7cbe9bb",
   "metadata": {},
   "outputs": [],
   "source": []
  }
 ],
 "metadata": {
  "kernelspec": {
   "display_name": "Python 3 (ipykernel)",
   "language": "python",
   "name": "python3"
  },
  "language_info": {
   "codemirror_mode": {
    "name": "ipython",
    "version": 3
   },
   "file_extension": ".py",
   "mimetype": "text/x-python",
   "name": "python",
   "nbconvert_exporter": "python",
   "pygments_lexer": "ipython3",
   "version": "3.9.13"
  }
 },
 "nbformat": 4,
 "nbformat_minor": 5
}
