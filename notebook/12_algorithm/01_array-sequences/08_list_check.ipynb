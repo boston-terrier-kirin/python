{
 "cells": [
  {
   "cell_type": "markdown",
   "id": "c02fa6c9",
   "metadata": {},
   "source": [
    "> Write a function called list_check, which accepts a list and returns True if each value in the list is a list. Otherwise the function should return False."
   ]
  },
  {
   "cell_type": "code",
   "execution_count": 14,
   "id": "11cae610",
   "metadata": {},
   "outputs": [],
   "source": [
    "def list_check(items):\n",
    "    for item in items:\n",
    "        if type(item) != list:\n",
    "            return False\n",
    "    return True"
   ]
  },
  {
   "cell_type": "code",
   "execution_count": 24,
   "id": "d28ea380",
   "metadata": {},
   "outputs": [],
   "source": [
    "def list_check(items):\n",
    "    return all([type(item) == list for item in items])"
   ]
  },
  {
   "cell_type": "code",
   "execution_count": 25,
   "id": "4c228e0d",
   "metadata": {},
   "outputs": [
    {
     "data": {
      "text/plain": [
       "False"
      ]
     },
     "execution_count": 25,
     "metadata": {},
     "output_type": "execute_result"
    }
   ],
   "source": [
    "list_check([[],[1],[2,3], (1,2)])"
   ]
  },
  {
   "cell_type": "code",
   "execution_count": 26,
   "id": "c749f89c",
   "metadata": {},
   "outputs": [
    {
     "data": {
      "text/plain": [
       "False"
      ]
     },
     "execution_count": 26,
     "metadata": {},
     "output_type": "execute_result"
    }
   ],
   "source": [
    "list_check([1, True, [],[1],[2,3]])"
   ]
  },
  {
   "cell_type": "code",
   "execution_count": 27,
   "id": "299dd305",
   "metadata": {},
   "outputs": [
    {
     "data": {
      "text/plain": [
       "True"
      ]
     },
     "execution_count": 27,
     "metadata": {},
     "output_type": "execute_result"
    }
   ],
   "source": [
    "list_check([[],[1],[2,3]])"
   ]
  },
  {
   "cell_type": "code",
   "execution_count": null,
   "id": "00163224",
   "metadata": {},
   "outputs": [],
   "source": []
  }
 ],
 "metadata": {
  "kernelspec": {
   "display_name": "Python 3 (ipykernel)",
   "language": "python",
   "name": "python3"
  },
  "language_info": {
   "codemirror_mode": {
    "name": "ipython",
    "version": 3
   },
   "file_extension": ".py",
   "mimetype": "text/x-python",
   "name": "python",
   "nbconvert_exporter": "python",
   "pygments_lexer": "ipython3",
   "version": "3.9.13"
  }
 },
 "nbformat": 4,
 "nbformat_minor": 5
}
